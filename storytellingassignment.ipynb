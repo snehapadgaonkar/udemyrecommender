{
  "nbformat": 4,
  "nbformat_minor": 0,
  "metadata": {
    "colab": {
      "provenance": []
    },
    "kernelspec": {
      "name": "python3",
      "display_name": "Python 3"
    },
    "language_info": {
      "name": "python"
    }
  },
  "cells": [
    {
      "cell_type": "markdown",
      "source": [
        "# Udemy Course Analysis & Recommendation System"
      ],
      "metadata": {
        "id": "bq0OgNAj2t_j"
      }
    },
    {
      "cell_type": "markdown",
      "source": [
        "## Data Collection & Cleaning"
      ],
      "metadata": {
        "id": "sHAn-phl3VEJ"
      }
    },
    {
      "cell_type": "code",
      "execution_count": 1,
      "metadata": {
        "id": "mMU6TuSsOTx3"
      },
      "outputs": [],
      "source": [
        "import numpy as np\n",
        "import pandas as pd\n",
        "import matplotlib.pyplot as plt\n",
        "import seaborn as sns"
      ]
    },
    {
      "cell_type": "code",
      "source": [
        "df = pd.read_csv('udemy_courses.csv')\n",
        "# Initial data inspection\n",
        "print('Number of rows and columns:', df.shape)"
      ],
      "metadata": {
        "colab": {
          "base_uri": "https://localhost:8080/"
        },
        "id": "BGKp-SuDR0nn",
        "outputId": "d43366c3-b279-425f-f41a-2220a029e096"
      },
      "execution_count": 2,
      "outputs": [
        {
          "output_type": "stream",
          "name": "stdout",
          "text": [
            "Number of rows and columns: (3678, 12)\n"
          ]
        }
      ]
    },
    {
      "cell_type": "code",
      "source": [
        "print('First 5 rows of the dataset:')\n",
        "df.head()"
      ],
      "metadata": {
        "colab": {
          "base_uri": "https://localhost:8080/",
          "height": 502
        },
        "id": "h09YqbBOWJWG",
        "outputId": "d65c463d-9798-44e8-cecb-ce5025dbd606"
      },
      "execution_count": 3,
      "outputs": [
        {
          "output_type": "stream",
          "name": "stdout",
          "text": [
            "First 5 rows of the dataset:\n"
          ]
        },
        {
          "output_type": "execute_result",
          "data": {
            "text/plain": [
              "   course_id                                       course_title  \\\n",
              "0    1070968                 Ultimate Investment Banking Course   \n",
              "1    1113822  Complete GST Course & Certification - Grow You...   \n",
              "2    1006314  Financial Modeling for Business Analysts and C...   \n",
              "3    1210588  Beginner to Pro - Financial Analysis in Excel ...   \n",
              "4    1011058       How To Maximize Your Profits Trading Options   \n",
              "\n",
              "                                                 url  is_paid  price  \\\n",
              "0  https://www.udemy.com/ultimate-investment-bank...     True    200   \n",
              "1      https://www.udemy.com/goods-and-services-tax/     True     75   \n",
              "2  https://www.udemy.com/financial-modeling-for-b...     True     45   \n",
              "3  https://www.udemy.com/complete-excel-finance-c...     True     95   \n",
              "4  https://www.udemy.com/how-to-maximize-your-pro...     True    200   \n",
              "\n",
              "   num_subscribers  num_reviews  num_lectures               level  \\\n",
              "0             2147           23            51          All Levels   \n",
              "1             2792          923           274          All Levels   \n",
              "2             2174           74            51  Intermediate Level   \n",
              "3             2451           11            36          All Levels   \n",
              "4             1276           45            26  Intermediate Level   \n",
              "\n",
              "   content_duration   published_timestamp           subject  \n",
              "0               1.5  2017-01-18T20:58:58Z  Business Finance  \n",
              "1              39.0  2017-03-09T16:34:20Z  Business Finance  \n",
              "2               2.5  2016-12-19T19:26:30Z  Business Finance  \n",
              "3               3.0  2017-05-30T20:07:24Z  Business Finance  \n",
              "4               2.0  2016-12-13T14:57:18Z  Business Finance  "
            ],
            "text/html": [
              "\n",
              "  <div id=\"df-60ca477e-fa83-4976-a70c-5b8f05aca8f6\" class=\"colab-df-container\">\n",
              "    <div>\n",
              "<style scoped>\n",
              "    .dataframe tbody tr th:only-of-type {\n",
              "        vertical-align: middle;\n",
              "    }\n",
              "\n",
              "    .dataframe tbody tr th {\n",
              "        vertical-align: top;\n",
              "    }\n",
              "\n",
              "    .dataframe thead th {\n",
              "        text-align: right;\n",
              "    }\n",
              "</style>\n",
              "<table border=\"1\" class=\"dataframe\">\n",
              "  <thead>\n",
              "    <tr style=\"text-align: right;\">\n",
              "      <th></th>\n",
              "      <th>course_id</th>\n",
              "      <th>course_title</th>\n",
              "      <th>url</th>\n",
              "      <th>is_paid</th>\n",
              "      <th>price</th>\n",
              "      <th>num_subscribers</th>\n",
              "      <th>num_reviews</th>\n",
              "      <th>num_lectures</th>\n",
              "      <th>level</th>\n",
              "      <th>content_duration</th>\n",
              "      <th>published_timestamp</th>\n",
              "      <th>subject</th>\n",
              "    </tr>\n",
              "  </thead>\n",
              "  <tbody>\n",
              "    <tr>\n",
              "      <th>0</th>\n",
              "      <td>1070968</td>\n",
              "      <td>Ultimate Investment Banking Course</td>\n",
              "      <td>https://www.udemy.com/ultimate-investment-bank...</td>\n",
              "      <td>True</td>\n",
              "      <td>200</td>\n",
              "      <td>2147</td>\n",
              "      <td>23</td>\n",
              "      <td>51</td>\n",
              "      <td>All Levels</td>\n",
              "      <td>1.5</td>\n",
              "      <td>2017-01-18T20:58:58Z</td>\n",
              "      <td>Business Finance</td>\n",
              "    </tr>\n",
              "    <tr>\n",
              "      <th>1</th>\n",
              "      <td>1113822</td>\n",
              "      <td>Complete GST Course &amp; Certification - Grow You...</td>\n",
              "      <td>https://www.udemy.com/goods-and-services-tax/</td>\n",
              "      <td>True</td>\n",
              "      <td>75</td>\n",
              "      <td>2792</td>\n",
              "      <td>923</td>\n",
              "      <td>274</td>\n",
              "      <td>All Levels</td>\n",
              "      <td>39.0</td>\n",
              "      <td>2017-03-09T16:34:20Z</td>\n",
              "      <td>Business Finance</td>\n",
              "    </tr>\n",
              "    <tr>\n",
              "      <th>2</th>\n",
              "      <td>1006314</td>\n",
              "      <td>Financial Modeling for Business Analysts and C...</td>\n",
              "      <td>https://www.udemy.com/financial-modeling-for-b...</td>\n",
              "      <td>True</td>\n",
              "      <td>45</td>\n",
              "      <td>2174</td>\n",
              "      <td>74</td>\n",
              "      <td>51</td>\n",
              "      <td>Intermediate Level</td>\n",
              "      <td>2.5</td>\n",
              "      <td>2016-12-19T19:26:30Z</td>\n",
              "      <td>Business Finance</td>\n",
              "    </tr>\n",
              "    <tr>\n",
              "      <th>3</th>\n",
              "      <td>1210588</td>\n",
              "      <td>Beginner to Pro - Financial Analysis in Excel ...</td>\n",
              "      <td>https://www.udemy.com/complete-excel-finance-c...</td>\n",
              "      <td>True</td>\n",
              "      <td>95</td>\n",
              "      <td>2451</td>\n",
              "      <td>11</td>\n",
              "      <td>36</td>\n",
              "      <td>All Levels</td>\n",
              "      <td>3.0</td>\n",
              "      <td>2017-05-30T20:07:24Z</td>\n",
              "      <td>Business Finance</td>\n",
              "    </tr>\n",
              "    <tr>\n",
              "      <th>4</th>\n",
              "      <td>1011058</td>\n",
              "      <td>How To Maximize Your Profits Trading Options</td>\n",
              "      <td>https://www.udemy.com/how-to-maximize-your-pro...</td>\n",
              "      <td>True</td>\n",
              "      <td>200</td>\n",
              "      <td>1276</td>\n",
              "      <td>45</td>\n",
              "      <td>26</td>\n",
              "      <td>Intermediate Level</td>\n",
              "      <td>2.0</td>\n",
              "      <td>2016-12-13T14:57:18Z</td>\n",
              "      <td>Business Finance</td>\n",
              "    </tr>\n",
              "  </tbody>\n",
              "</table>\n",
              "</div>\n",
              "    <div class=\"colab-df-buttons\">\n",
              "\n",
              "  <div class=\"colab-df-container\">\n",
              "    <button class=\"colab-df-convert\" onclick=\"convertToInteractive('df-60ca477e-fa83-4976-a70c-5b8f05aca8f6')\"\n",
              "            title=\"Convert this dataframe to an interactive table.\"\n",
              "            style=\"display:none;\">\n",
              "\n",
              "  <svg xmlns=\"http://www.w3.org/2000/svg\" height=\"24px\" viewBox=\"0 -960 960 960\">\n",
              "    <path d=\"M120-120v-720h720v720H120Zm60-500h600v-160H180v160Zm220 220h160v-160H400v160Zm0 220h160v-160H400v160ZM180-400h160v-160H180v160Zm440 0h160v-160H620v160ZM180-180h160v-160H180v160Zm440 0h160v-160H620v160Z\"/>\n",
              "  </svg>\n",
              "    </button>\n",
              "\n",
              "  <style>\n",
              "    .colab-df-container {\n",
              "      display:flex;\n",
              "      gap: 12px;\n",
              "    }\n",
              "\n",
              "    .colab-df-convert {\n",
              "      background-color: #E8F0FE;\n",
              "      border: none;\n",
              "      border-radius: 50%;\n",
              "      cursor: pointer;\n",
              "      display: none;\n",
              "      fill: #1967D2;\n",
              "      height: 32px;\n",
              "      padding: 0 0 0 0;\n",
              "      width: 32px;\n",
              "    }\n",
              "\n",
              "    .colab-df-convert:hover {\n",
              "      background-color: #E2EBFA;\n",
              "      box-shadow: 0px 1px 2px rgba(60, 64, 67, 0.3), 0px 1px 3px 1px rgba(60, 64, 67, 0.15);\n",
              "      fill: #174EA6;\n",
              "    }\n",
              "\n",
              "    .colab-df-buttons div {\n",
              "      margin-bottom: 4px;\n",
              "    }\n",
              "\n",
              "    [theme=dark] .colab-df-convert {\n",
              "      background-color: #3B4455;\n",
              "      fill: #D2E3FC;\n",
              "    }\n",
              "\n",
              "    [theme=dark] .colab-df-convert:hover {\n",
              "      background-color: #434B5C;\n",
              "      box-shadow: 0px 1px 3px 1px rgba(0, 0, 0, 0.15);\n",
              "      filter: drop-shadow(0px 1px 2px rgba(0, 0, 0, 0.3));\n",
              "      fill: #FFFFFF;\n",
              "    }\n",
              "  </style>\n",
              "\n",
              "    <script>\n",
              "      const buttonEl =\n",
              "        document.querySelector('#df-60ca477e-fa83-4976-a70c-5b8f05aca8f6 button.colab-df-convert');\n",
              "      buttonEl.style.display =\n",
              "        google.colab.kernel.accessAllowed ? 'block' : 'none';\n",
              "\n",
              "      async function convertToInteractive(key) {\n",
              "        const element = document.querySelector('#df-60ca477e-fa83-4976-a70c-5b8f05aca8f6');\n",
              "        const dataTable =\n",
              "          await google.colab.kernel.invokeFunction('convertToInteractive',\n",
              "                                                    [key], {});\n",
              "        if (!dataTable) return;\n",
              "\n",
              "        const docLinkHtml = 'Like what you see? Visit the ' +\n",
              "          '<a target=\"_blank\" href=https://colab.research.google.com/notebooks/data_table.ipynb>data table notebook</a>'\n",
              "          + ' to learn more about interactive tables.';\n",
              "        element.innerHTML = '';\n",
              "        dataTable['output_type'] = 'display_data';\n",
              "        await google.colab.output.renderOutput(dataTable, element);\n",
              "        const docLink = document.createElement('div');\n",
              "        docLink.innerHTML = docLinkHtml;\n",
              "        element.appendChild(docLink);\n",
              "      }\n",
              "    </script>\n",
              "  </div>\n",
              "\n",
              "\n",
              "<div id=\"df-f9bb4001-7963-4f35-ad04-2fd2a9745831\">\n",
              "  <button class=\"colab-df-quickchart\" onclick=\"quickchart('df-f9bb4001-7963-4f35-ad04-2fd2a9745831')\"\n",
              "            title=\"Suggest charts\"\n",
              "            style=\"display:none;\">\n",
              "\n",
              "<svg xmlns=\"http://www.w3.org/2000/svg\" height=\"24px\"viewBox=\"0 0 24 24\"\n",
              "     width=\"24px\">\n",
              "    <g>\n",
              "        <path d=\"M19 3H5c-1.1 0-2 .9-2 2v14c0 1.1.9 2 2 2h14c1.1 0 2-.9 2-2V5c0-1.1-.9-2-2-2zM9 17H7v-7h2v7zm4 0h-2V7h2v10zm4 0h-2v-4h2v4z\"/>\n",
              "    </g>\n",
              "</svg>\n",
              "  </button>\n",
              "\n",
              "<style>\n",
              "  .colab-df-quickchart {\n",
              "      --bg-color: #E8F0FE;\n",
              "      --fill-color: #1967D2;\n",
              "      --hover-bg-color: #E2EBFA;\n",
              "      --hover-fill-color: #174EA6;\n",
              "      --disabled-fill-color: #AAA;\n",
              "      --disabled-bg-color: #DDD;\n",
              "  }\n",
              "\n",
              "  [theme=dark] .colab-df-quickchart {\n",
              "      --bg-color: #3B4455;\n",
              "      --fill-color: #D2E3FC;\n",
              "      --hover-bg-color: #434B5C;\n",
              "      --hover-fill-color: #FFFFFF;\n",
              "      --disabled-bg-color: #3B4455;\n",
              "      --disabled-fill-color: #666;\n",
              "  }\n",
              "\n",
              "  .colab-df-quickchart {\n",
              "    background-color: var(--bg-color);\n",
              "    border: none;\n",
              "    border-radius: 50%;\n",
              "    cursor: pointer;\n",
              "    display: none;\n",
              "    fill: var(--fill-color);\n",
              "    height: 32px;\n",
              "    padding: 0;\n",
              "    width: 32px;\n",
              "  }\n",
              "\n",
              "  .colab-df-quickchart:hover {\n",
              "    background-color: var(--hover-bg-color);\n",
              "    box-shadow: 0 1px 2px rgba(60, 64, 67, 0.3), 0 1px 3px 1px rgba(60, 64, 67, 0.15);\n",
              "    fill: var(--button-hover-fill-color);\n",
              "  }\n",
              "\n",
              "  .colab-df-quickchart-complete:disabled,\n",
              "  .colab-df-quickchart-complete:disabled:hover {\n",
              "    background-color: var(--disabled-bg-color);\n",
              "    fill: var(--disabled-fill-color);\n",
              "    box-shadow: none;\n",
              "  }\n",
              "\n",
              "  .colab-df-spinner {\n",
              "    border: 2px solid var(--fill-color);\n",
              "    border-color: transparent;\n",
              "    border-bottom-color: var(--fill-color);\n",
              "    animation:\n",
              "      spin 1s steps(1) infinite;\n",
              "  }\n",
              "\n",
              "  @keyframes spin {\n",
              "    0% {\n",
              "      border-color: transparent;\n",
              "      border-bottom-color: var(--fill-color);\n",
              "      border-left-color: var(--fill-color);\n",
              "    }\n",
              "    20% {\n",
              "      border-color: transparent;\n",
              "      border-left-color: var(--fill-color);\n",
              "      border-top-color: var(--fill-color);\n",
              "    }\n",
              "    30% {\n",
              "      border-color: transparent;\n",
              "      border-left-color: var(--fill-color);\n",
              "      border-top-color: var(--fill-color);\n",
              "      border-right-color: var(--fill-color);\n",
              "    }\n",
              "    40% {\n",
              "      border-color: transparent;\n",
              "      border-right-color: var(--fill-color);\n",
              "      border-top-color: var(--fill-color);\n",
              "    }\n",
              "    60% {\n",
              "      border-color: transparent;\n",
              "      border-right-color: var(--fill-color);\n",
              "    }\n",
              "    80% {\n",
              "      border-color: transparent;\n",
              "      border-right-color: var(--fill-color);\n",
              "      border-bottom-color: var(--fill-color);\n",
              "    }\n",
              "    90% {\n",
              "      border-color: transparent;\n",
              "      border-bottom-color: var(--fill-color);\n",
              "    }\n",
              "  }\n",
              "</style>\n",
              "\n",
              "  <script>\n",
              "    async function quickchart(key) {\n",
              "      const quickchartButtonEl =\n",
              "        document.querySelector('#' + key + ' button');\n",
              "      quickchartButtonEl.disabled = true;  // To prevent multiple clicks.\n",
              "      quickchartButtonEl.classList.add('colab-df-spinner');\n",
              "      try {\n",
              "        const charts = await google.colab.kernel.invokeFunction(\n",
              "            'suggestCharts', [key], {});\n",
              "      } catch (error) {\n",
              "        console.error('Error during call to suggestCharts:', error);\n",
              "      }\n",
              "      quickchartButtonEl.classList.remove('colab-df-spinner');\n",
              "      quickchartButtonEl.classList.add('colab-df-quickchart-complete');\n",
              "    }\n",
              "    (() => {\n",
              "      let quickchartButtonEl =\n",
              "        document.querySelector('#df-f9bb4001-7963-4f35-ad04-2fd2a9745831 button');\n",
              "      quickchartButtonEl.style.display =\n",
              "        google.colab.kernel.accessAllowed ? 'block' : 'none';\n",
              "    })();\n",
              "  </script>\n",
              "</div>\n",
              "\n",
              "    </div>\n",
              "  </div>\n"
            ],
            "application/vnd.google.colaboratory.intrinsic+json": {
              "type": "dataframe",
              "variable_name": "df",
              "summary": "{\n  \"name\": \"df\",\n  \"rows\": 3678,\n  \"fields\": [\n    {\n      \"column\": \"course_id\",\n      \"properties\": {\n        \"dtype\": \"number\",\n        \"std\": 343273,\n        \"min\": 8324,\n        \"max\": 1282064,\n        \"num_unique_values\": 3672,\n        \"samples\": [\n          26648,\n          1121580,\n          1076222\n        ],\n        \"semantic_type\": \"\",\n        \"description\": \"\"\n      }\n    },\n    {\n      \"column\": \"course_title\",\n      \"properties\": {\n        \"dtype\": \"string\",\n        \"num_unique_values\": 3663,\n        \"samples\": [\n          \"Photoshop - Automatiza\\u00e7\\u00e3o com Adobe Script\",\n          \"Forex MetaTrader 4: Master MT4 Like A Pro Forex Trader\",\n          \"* An Integrated Approach to the Fundamentals of Accounting\"\n        ],\n        \"semantic_type\": \"\",\n        \"description\": \"\"\n      }\n    },\n    {\n      \"column\": \"url\",\n      \"properties\": {\n        \"dtype\": \"string\",\n        \"num_unique_values\": 3672,\n        \"samples\": [\n          \"https://www.udemy.com/how-to-play-guitar-really-understand-music/\",\n          \"https://www.udemy.com/wordpress-website-for-beginners/\",\n          \"https://www.udemy.com/the-most-popular-techniques-in-photoshop/\"\n        ],\n        \"semantic_type\": \"\",\n        \"description\": \"\"\n      }\n    },\n    {\n      \"column\": \"is_paid\",\n      \"properties\": {\n        \"dtype\": \"boolean\",\n        \"num_unique_values\": 2,\n        \"samples\": [\n          false,\n          true\n        ],\n        \"semantic_type\": \"\",\n        \"description\": \"\"\n      }\n    },\n    {\n      \"column\": \"price\",\n      \"properties\": {\n        \"dtype\": \"number\",\n        \"std\": 61,\n        \"min\": 0,\n        \"max\": 200,\n        \"num_unique_values\": 38,\n        \"samples\": [\n          130,\n          110\n        ],\n        \"semantic_type\": \"\",\n        \"description\": \"\"\n      }\n    },\n    {\n      \"column\": \"num_subscribers\",\n      \"properties\": {\n        \"dtype\": \"number\",\n        \"std\": 9504,\n        \"min\": 0,\n        \"max\": 268923,\n        \"num_unique_values\": 2197,\n        \"samples\": [\n          136,\n          251\n        ],\n        \"semantic_type\": \"\",\n        \"description\": \"\"\n      }\n    },\n    {\n      \"column\": \"num_reviews\",\n      \"properties\": {\n        \"dtype\": \"number\",\n        \"std\": 935,\n        \"min\": 0,\n        \"max\": 27445,\n        \"num_unique_values\": 511,\n        \"samples\": [\n          265,\n          66\n        ],\n        \"semantic_type\": \"\",\n        \"description\": \"\"\n      }\n    },\n    {\n      \"column\": \"num_lectures\",\n      \"properties\": {\n        \"dtype\": \"number\",\n        \"std\": 50,\n        \"min\": 0,\n        \"max\": 779,\n        \"num_unique_values\": 229,\n        \"samples\": [\n          342,\n          34\n        ],\n        \"semantic_type\": \"\",\n        \"description\": \"\"\n      }\n    },\n    {\n      \"column\": \"level\",\n      \"properties\": {\n        \"dtype\": \"category\",\n        \"num_unique_values\": 4,\n        \"samples\": [\n          \"Intermediate Level\",\n          \"Expert Level\"\n        ],\n        \"semantic_type\": \"\",\n        \"description\": \"\"\n      }\n    },\n    {\n      \"column\": \"content_duration\",\n      \"properties\": {\n        \"dtype\": \"number\",\n        \"std\": 6.053840414790095,\n        \"min\": 0.0,\n        \"max\": 78.5,\n        \"num_unique_values\": 105,\n        \"samples\": [\n          46.5,\n          70.0\n        ],\n        \"semantic_type\": \"\",\n        \"description\": \"\"\n      }\n    },\n    {\n      \"column\": \"published_timestamp\",\n      \"properties\": {\n        \"dtype\": \"object\",\n        \"num_unique_values\": 3672,\n        \"samples\": [\n          \"2012-10-13T23:40:19Z\",\n          \"2017-02-26T18:29:53Z\"\n        ],\n        \"semantic_type\": \"\",\n        \"description\": \"\"\n      }\n    },\n    {\n      \"column\": \"subject\",\n      \"properties\": {\n        \"dtype\": \"category\",\n        \"num_unique_values\": 4,\n        \"samples\": [\n          \"Graphic Design\",\n          \"Web Development\"\n        ],\n        \"semantic_type\": \"\",\n        \"description\": \"\"\n      }\n    }\n  ]\n}"
            }
          },
          "metadata": {},
          "execution_count": 3
        }
      ]
    },
    {
      "cell_type": "code",
      "source": [
        "print('Last 5 rows of the dataset:')\n",
        "df.tail()"
      ],
      "metadata": {
        "colab": {
          "base_uri": "https://localhost:8080/",
          "height": 539
        },
        "id": "CsszuY_pWeX5",
        "outputId": "95c3f1c9-4d1f-4990-f1ac-efa977dd3a77"
      },
      "execution_count": 4,
      "outputs": [
        {
          "output_type": "stream",
          "name": "stdout",
          "text": [
            "Last 5 rows of the dataset:\n"
          ]
        },
        {
          "output_type": "execute_result",
          "data": {
            "text/plain": [
              "      course_id                                       course_title  \\\n",
              "3673     775618  Learn jQuery from Scratch - Master of JavaScri...   \n",
              "3674    1088178  How To Design A WordPress Website With No Codi...   \n",
              "3675     635248                      Learn and Build using Polymer   \n",
              "3676     905096  CSS Animations: Create Amazing Effects on Your...   \n",
              "3677     297602  Using MODX CMS to Build Websites: A Beginner's...   \n",
              "\n",
              "                                                    url  is_paid  price  \\\n",
              "3673  https://www.udemy.com/easy-jquery-for-beginner...     True    100   \n",
              "3674  https://www.udemy.com/how-to-make-a-wordpress-...     True     25   \n",
              "3675  https://www.udemy.com/learn-and-build-using-po...     True     40   \n",
              "3676  https://www.udemy.com/css-animations-create-am...     True     50   \n",
              "3677  https://www.udemy.com/using-modx-cms-to-build-...     True     45   \n",
              "\n",
              "      num_subscribers  num_reviews  num_lectures           level  \\\n",
              "3673             1040           14            21      All Levels   \n",
              "3674              306            3            42  Beginner Level   \n",
              "3675              513          169            48      All Levels   \n",
              "3676              300           31            38      All Levels   \n",
              "3677              901           36            20  Beginner Level   \n",
              "\n",
              "      content_duration   published_timestamp          subject  \n",
              "3673               2.0  2016-06-14T17:36:46Z  Web Development  \n",
              "3674               3.5  2017-03-10T22:24:30Z  Web Development  \n",
              "3675               3.5  2015-12-30T16:41:42Z  Web Development  \n",
              "3676               3.0  2016-08-11T19:06:15Z  Web Development  \n",
              "3677               2.0  2014-09-28T19:51:11Z  Web Development  "
            ],
            "text/html": [
              "\n",
              "  <div id=\"df-0b397767-840b-4b8e-bac2-dcf8c60c719f\" class=\"colab-df-container\">\n",
              "    <div>\n",
              "<style scoped>\n",
              "    .dataframe tbody tr th:only-of-type {\n",
              "        vertical-align: middle;\n",
              "    }\n",
              "\n",
              "    .dataframe tbody tr th {\n",
              "        vertical-align: top;\n",
              "    }\n",
              "\n",
              "    .dataframe thead th {\n",
              "        text-align: right;\n",
              "    }\n",
              "</style>\n",
              "<table border=\"1\" class=\"dataframe\">\n",
              "  <thead>\n",
              "    <tr style=\"text-align: right;\">\n",
              "      <th></th>\n",
              "      <th>course_id</th>\n",
              "      <th>course_title</th>\n",
              "      <th>url</th>\n",
              "      <th>is_paid</th>\n",
              "      <th>price</th>\n",
              "      <th>num_subscribers</th>\n",
              "      <th>num_reviews</th>\n",
              "      <th>num_lectures</th>\n",
              "      <th>level</th>\n",
              "      <th>content_duration</th>\n",
              "      <th>published_timestamp</th>\n",
              "      <th>subject</th>\n",
              "    </tr>\n",
              "  </thead>\n",
              "  <tbody>\n",
              "    <tr>\n",
              "      <th>3673</th>\n",
              "      <td>775618</td>\n",
              "      <td>Learn jQuery from Scratch - Master of JavaScri...</td>\n",
              "      <td>https://www.udemy.com/easy-jquery-for-beginner...</td>\n",
              "      <td>True</td>\n",
              "      <td>100</td>\n",
              "      <td>1040</td>\n",
              "      <td>14</td>\n",
              "      <td>21</td>\n",
              "      <td>All Levels</td>\n",
              "      <td>2.0</td>\n",
              "      <td>2016-06-14T17:36:46Z</td>\n",
              "      <td>Web Development</td>\n",
              "    </tr>\n",
              "    <tr>\n",
              "      <th>3674</th>\n",
              "      <td>1088178</td>\n",
              "      <td>How To Design A WordPress Website With No Codi...</td>\n",
              "      <td>https://www.udemy.com/how-to-make-a-wordpress-...</td>\n",
              "      <td>True</td>\n",
              "      <td>25</td>\n",
              "      <td>306</td>\n",
              "      <td>3</td>\n",
              "      <td>42</td>\n",
              "      <td>Beginner Level</td>\n",
              "      <td>3.5</td>\n",
              "      <td>2017-03-10T22:24:30Z</td>\n",
              "      <td>Web Development</td>\n",
              "    </tr>\n",
              "    <tr>\n",
              "      <th>3675</th>\n",
              "      <td>635248</td>\n",
              "      <td>Learn and Build using Polymer</td>\n",
              "      <td>https://www.udemy.com/learn-and-build-using-po...</td>\n",
              "      <td>True</td>\n",
              "      <td>40</td>\n",
              "      <td>513</td>\n",
              "      <td>169</td>\n",
              "      <td>48</td>\n",
              "      <td>All Levels</td>\n",
              "      <td>3.5</td>\n",
              "      <td>2015-12-30T16:41:42Z</td>\n",
              "      <td>Web Development</td>\n",
              "    </tr>\n",
              "    <tr>\n",
              "      <th>3676</th>\n",
              "      <td>905096</td>\n",
              "      <td>CSS Animations: Create Amazing Effects on Your...</td>\n",
              "      <td>https://www.udemy.com/css-animations-create-am...</td>\n",
              "      <td>True</td>\n",
              "      <td>50</td>\n",
              "      <td>300</td>\n",
              "      <td>31</td>\n",
              "      <td>38</td>\n",
              "      <td>All Levels</td>\n",
              "      <td>3.0</td>\n",
              "      <td>2016-08-11T19:06:15Z</td>\n",
              "      <td>Web Development</td>\n",
              "    </tr>\n",
              "    <tr>\n",
              "      <th>3677</th>\n",
              "      <td>297602</td>\n",
              "      <td>Using MODX CMS to Build Websites: A Beginner's...</td>\n",
              "      <td>https://www.udemy.com/using-modx-cms-to-build-...</td>\n",
              "      <td>True</td>\n",
              "      <td>45</td>\n",
              "      <td>901</td>\n",
              "      <td>36</td>\n",
              "      <td>20</td>\n",
              "      <td>Beginner Level</td>\n",
              "      <td>2.0</td>\n",
              "      <td>2014-09-28T19:51:11Z</td>\n",
              "      <td>Web Development</td>\n",
              "    </tr>\n",
              "  </tbody>\n",
              "</table>\n",
              "</div>\n",
              "    <div class=\"colab-df-buttons\">\n",
              "\n",
              "  <div class=\"colab-df-container\">\n",
              "    <button class=\"colab-df-convert\" onclick=\"convertToInteractive('df-0b397767-840b-4b8e-bac2-dcf8c60c719f')\"\n",
              "            title=\"Convert this dataframe to an interactive table.\"\n",
              "            style=\"display:none;\">\n",
              "\n",
              "  <svg xmlns=\"http://www.w3.org/2000/svg\" height=\"24px\" viewBox=\"0 -960 960 960\">\n",
              "    <path d=\"M120-120v-720h720v720H120Zm60-500h600v-160H180v160Zm220 220h160v-160H400v160Zm0 220h160v-160H400v160ZM180-400h160v-160H180v160Zm440 0h160v-160H620v160ZM180-180h160v-160H180v160Zm440 0h160v-160H620v160Z\"/>\n",
              "  </svg>\n",
              "    </button>\n",
              "\n",
              "  <style>\n",
              "    .colab-df-container {\n",
              "      display:flex;\n",
              "      gap: 12px;\n",
              "    }\n",
              "\n",
              "    .colab-df-convert {\n",
              "      background-color: #E8F0FE;\n",
              "      border: none;\n",
              "      border-radius: 50%;\n",
              "      cursor: pointer;\n",
              "      display: none;\n",
              "      fill: #1967D2;\n",
              "      height: 32px;\n",
              "      padding: 0 0 0 0;\n",
              "      width: 32px;\n",
              "    }\n",
              "\n",
              "    .colab-df-convert:hover {\n",
              "      background-color: #E2EBFA;\n",
              "      box-shadow: 0px 1px 2px rgba(60, 64, 67, 0.3), 0px 1px 3px 1px rgba(60, 64, 67, 0.15);\n",
              "      fill: #174EA6;\n",
              "    }\n",
              "\n",
              "    .colab-df-buttons div {\n",
              "      margin-bottom: 4px;\n",
              "    }\n",
              "\n",
              "    [theme=dark] .colab-df-convert {\n",
              "      background-color: #3B4455;\n",
              "      fill: #D2E3FC;\n",
              "    }\n",
              "\n",
              "    [theme=dark] .colab-df-convert:hover {\n",
              "      background-color: #434B5C;\n",
              "      box-shadow: 0px 1px 3px 1px rgba(0, 0, 0, 0.15);\n",
              "      filter: drop-shadow(0px 1px 2px rgba(0, 0, 0, 0.3));\n",
              "      fill: #FFFFFF;\n",
              "    }\n",
              "  </style>\n",
              "\n",
              "    <script>\n",
              "      const buttonEl =\n",
              "        document.querySelector('#df-0b397767-840b-4b8e-bac2-dcf8c60c719f button.colab-df-convert');\n",
              "      buttonEl.style.display =\n",
              "        google.colab.kernel.accessAllowed ? 'block' : 'none';\n",
              "\n",
              "      async function convertToInteractive(key) {\n",
              "        const element = document.querySelector('#df-0b397767-840b-4b8e-bac2-dcf8c60c719f');\n",
              "        const dataTable =\n",
              "          await google.colab.kernel.invokeFunction('convertToInteractive',\n",
              "                                                    [key], {});\n",
              "        if (!dataTable) return;\n",
              "\n",
              "        const docLinkHtml = 'Like what you see? Visit the ' +\n",
              "          '<a target=\"_blank\" href=https://colab.research.google.com/notebooks/data_table.ipynb>data table notebook</a>'\n",
              "          + ' to learn more about interactive tables.';\n",
              "        element.innerHTML = '';\n",
              "        dataTable['output_type'] = 'display_data';\n",
              "        await google.colab.output.renderOutput(dataTable, element);\n",
              "        const docLink = document.createElement('div');\n",
              "        docLink.innerHTML = docLinkHtml;\n",
              "        element.appendChild(docLink);\n",
              "      }\n",
              "    </script>\n",
              "  </div>\n",
              "\n",
              "\n",
              "<div id=\"df-8efb0b0e-1759-4899-b1ba-9faea87e55d0\">\n",
              "  <button class=\"colab-df-quickchart\" onclick=\"quickchart('df-8efb0b0e-1759-4899-b1ba-9faea87e55d0')\"\n",
              "            title=\"Suggest charts\"\n",
              "            style=\"display:none;\">\n",
              "\n",
              "<svg xmlns=\"http://www.w3.org/2000/svg\" height=\"24px\"viewBox=\"0 0 24 24\"\n",
              "     width=\"24px\">\n",
              "    <g>\n",
              "        <path d=\"M19 3H5c-1.1 0-2 .9-2 2v14c0 1.1.9 2 2 2h14c1.1 0 2-.9 2-2V5c0-1.1-.9-2-2-2zM9 17H7v-7h2v7zm4 0h-2V7h2v10zm4 0h-2v-4h2v4z\"/>\n",
              "    </g>\n",
              "</svg>\n",
              "  </button>\n",
              "\n",
              "<style>\n",
              "  .colab-df-quickchart {\n",
              "      --bg-color: #E8F0FE;\n",
              "      --fill-color: #1967D2;\n",
              "      --hover-bg-color: #E2EBFA;\n",
              "      --hover-fill-color: #174EA6;\n",
              "      --disabled-fill-color: #AAA;\n",
              "      --disabled-bg-color: #DDD;\n",
              "  }\n",
              "\n",
              "  [theme=dark] .colab-df-quickchart {\n",
              "      --bg-color: #3B4455;\n",
              "      --fill-color: #D2E3FC;\n",
              "      --hover-bg-color: #434B5C;\n",
              "      --hover-fill-color: #FFFFFF;\n",
              "      --disabled-bg-color: #3B4455;\n",
              "      --disabled-fill-color: #666;\n",
              "  }\n",
              "\n",
              "  .colab-df-quickchart {\n",
              "    background-color: var(--bg-color);\n",
              "    border: none;\n",
              "    border-radius: 50%;\n",
              "    cursor: pointer;\n",
              "    display: none;\n",
              "    fill: var(--fill-color);\n",
              "    height: 32px;\n",
              "    padding: 0;\n",
              "    width: 32px;\n",
              "  }\n",
              "\n",
              "  .colab-df-quickchart:hover {\n",
              "    background-color: var(--hover-bg-color);\n",
              "    box-shadow: 0 1px 2px rgba(60, 64, 67, 0.3), 0 1px 3px 1px rgba(60, 64, 67, 0.15);\n",
              "    fill: var(--button-hover-fill-color);\n",
              "  }\n",
              "\n",
              "  .colab-df-quickchart-complete:disabled,\n",
              "  .colab-df-quickchart-complete:disabled:hover {\n",
              "    background-color: var(--disabled-bg-color);\n",
              "    fill: var(--disabled-fill-color);\n",
              "    box-shadow: none;\n",
              "  }\n",
              "\n",
              "  .colab-df-spinner {\n",
              "    border: 2px solid var(--fill-color);\n",
              "    border-color: transparent;\n",
              "    border-bottom-color: var(--fill-color);\n",
              "    animation:\n",
              "      spin 1s steps(1) infinite;\n",
              "  }\n",
              "\n",
              "  @keyframes spin {\n",
              "    0% {\n",
              "      border-color: transparent;\n",
              "      border-bottom-color: var(--fill-color);\n",
              "      border-left-color: var(--fill-color);\n",
              "    }\n",
              "    20% {\n",
              "      border-color: transparent;\n",
              "      border-left-color: var(--fill-color);\n",
              "      border-top-color: var(--fill-color);\n",
              "    }\n",
              "    30% {\n",
              "      border-color: transparent;\n",
              "      border-left-color: var(--fill-color);\n",
              "      border-top-color: var(--fill-color);\n",
              "      border-right-color: var(--fill-color);\n",
              "    }\n",
              "    40% {\n",
              "      border-color: transparent;\n",
              "      border-right-color: var(--fill-color);\n",
              "      border-top-color: var(--fill-color);\n",
              "    }\n",
              "    60% {\n",
              "      border-color: transparent;\n",
              "      border-right-color: var(--fill-color);\n",
              "    }\n",
              "    80% {\n",
              "      border-color: transparent;\n",
              "      border-right-color: var(--fill-color);\n",
              "      border-bottom-color: var(--fill-color);\n",
              "    }\n",
              "    90% {\n",
              "      border-color: transparent;\n",
              "      border-bottom-color: var(--fill-color);\n",
              "    }\n",
              "  }\n",
              "</style>\n",
              "\n",
              "  <script>\n",
              "    async function quickchart(key) {\n",
              "      const quickchartButtonEl =\n",
              "        document.querySelector('#' + key + ' button');\n",
              "      quickchartButtonEl.disabled = true;  // To prevent multiple clicks.\n",
              "      quickchartButtonEl.classList.add('colab-df-spinner');\n",
              "      try {\n",
              "        const charts = await google.colab.kernel.invokeFunction(\n",
              "            'suggestCharts', [key], {});\n",
              "      } catch (error) {\n",
              "        console.error('Error during call to suggestCharts:', error);\n",
              "      }\n",
              "      quickchartButtonEl.classList.remove('colab-df-spinner');\n",
              "      quickchartButtonEl.classList.add('colab-df-quickchart-complete');\n",
              "    }\n",
              "    (() => {\n",
              "      let quickchartButtonEl =\n",
              "        document.querySelector('#df-8efb0b0e-1759-4899-b1ba-9faea87e55d0 button');\n",
              "      quickchartButtonEl.style.display =\n",
              "        google.colab.kernel.accessAllowed ? 'block' : 'none';\n",
              "    })();\n",
              "  </script>\n",
              "</div>\n",
              "\n",
              "    </div>\n",
              "  </div>\n"
            ],
            "application/vnd.google.colaboratory.intrinsic+json": {
              "type": "dataframe",
              "repr_error": "0"
            }
          },
          "metadata": {},
          "execution_count": 4
        }
      ]
    },
    {
      "cell_type": "code",
      "source": [
        "print('Info about the dataset')\n",
        "df.info()"
      ],
      "metadata": {
        "colab": {
          "base_uri": "https://localhost:8080/"
        },
        "id": "m-DH-oPiWSa5",
        "outputId": "65fb958e-44df-41b1-c2d0-9ca8b0c378a4"
      },
      "execution_count": 5,
      "outputs": [
        {
          "output_type": "stream",
          "name": "stdout",
          "text": [
            "Info about the dataset\n",
            "<class 'pandas.core.frame.DataFrame'>\n",
            "RangeIndex: 3678 entries, 0 to 3677\n",
            "Data columns (total 12 columns):\n",
            " #   Column               Non-Null Count  Dtype  \n",
            "---  ------               --------------  -----  \n",
            " 0   course_id            3678 non-null   int64  \n",
            " 1   course_title         3678 non-null   object \n",
            " 2   url                  3678 non-null   object \n",
            " 3   is_paid              3678 non-null   bool   \n",
            " 4   price                3678 non-null   int64  \n",
            " 5   num_subscribers      3678 non-null   int64  \n",
            " 6   num_reviews          3678 non-null   int64  \n",
            " 7   num_lectures         3678 non-null   int64  \n",
            " 8   level                3678 non-null   object \n",
            " 9   content_duration     3678 non-null   float64\n",
            " 10  published_timestamp  3678 non-null   object \n",
            " 11  subject              3678 non-null   object \n",
            "dtypes: bool(1), float64(1), int64(5), object(5)\n",
            "memory usage: 319.8+ KB\n"
          ]
        }
      ]
    },
    {
      "cell_type": "code",
      "source": [
        "print('Summary statistics:')\n",
        "df.describe()"
      ],
      "metadata": {
        "colab": {
          "base_uri": "https://localhost:8080/",
          "height": 318
        },
        "id": "a2qMy4fPWW_q",
        "outputId": "9aac7b8f-bdcb-49d2-96bc-e542b776da48"
      },
      "execution_count": 6,
      "outputs": [
        {
          "output_type": "stream",
          "name": "stdout",
          "text": [
            "Summary statistics:\n"
          ]
        },
        {
          "output_type": "execute_result",
          "data": {
            "text/plain": [
              "          course_id        price  num_subscribers   num_reviews  num_lectures  \\\n",
              "count  3.678000e+03  3678.000000      3678.000000   3678.000000   3678.000000   \n",
              "mean   6.759720e+05    66.049483      3197.150625    156.259108     40.108755   \n",
              "std    3.432732e+05    61.005755      9504.117010    935.452044     50.383346   \n",
              "min    8.324000e+03     0.000000         0.000000      0.000000      0.000000   \n",
              "25%    4.076925e+05    20.000000       111.000000      4.000000     15.000000   \n",
              "50%    6.879170e+05    45.000000       911.500000     18.000000     25.000000   \n",
              "75%    9.613555e+05    95.000000      2546.000000     67.000000     45.750000   \n",
              "max    1.282064e+06   200.000000    268923.000000  27445.000000    779.000000   \n",
              "\n",
              "       content_duration  \n",
              "count       3678.000000  \n",
              "mean           4.094517  \n",
              "std            6.053840  \n",
              "min            0.000000  \n",
              "25%            1.000000  \n",
              "50%            2.000000  \n",
              "75%            4.500000  \n",
              "max           78.500000  "
            ],
            "text/html": [
              "\n",
              "  <div id=\"df-57b0f3b1-621d-4b46-92dc-5c63765a443a\" class=\"colab-df-container\">\n",
              "    <div>\n",
              "<style scoped>\n",
              "    .dataframe tbody tr th:only-of-type {\n",
              "        vertical-align: middle;\n",
              "    }\n",
              "\n",
              "    .dataframe tbody tr th {\n",
              "        vertical-align: top;\n",
              "    }\n",
              "\n",
              "    .dataframe thead th {\n",
              "        text-align: right;\n",
              "    }\n",
              "</style>\n",
              "<table border=\"1\" class=\"dataframe\">\n",
              "  <thead>\n",
              "    <tr style=\"text-align: right;\">\n",
              "      <th></th>\n",
              "      <th>course_id</th>\n",
              "      <th>price</th>\n",
              "      <th>num_subscribers</th>\n",
              "      <th>num_reviews</th>\n",
              "      <th>num_lectures</th>\n",
              "      <th>content_duration</th>\n",
              "    </tr>\n",
              "  </thead>\n",
              "  <tbody>\n",
              "    <tr>\n",
              "      <th>count</th>\n",
              "      <td>3.678000e+03</td>\n",
              "      <td>3678.000000</td>\n",
              "      <td>3678.000000</td>\n",
              "      <td>3678.000000</td>\n",
              "      <td>3678.000000</td>\n",
              "      <td>3678.000000</td>\n",
              "    </tr>\n",
              "    <tr>\n",
              "      <th>mean</th>\n",
              "      <td>6.759720e+05</td>\n",
              "      <td>66.049483</td>\n",
              "      <td>3197.150625</td>\n",
              "      <td>156.259108</td>\n",
              "      <td>40.108755</td>\n",
              "      <td>4.094517</td>\n",
              "    </tr>\n",
              "    <tr>\n",
              "      <th>std</th>\n",
              "      <td>3.432732e+05</td>\n",
              "      <td>61.005755</td>\n",
              "      <td>9504.117010</td>\n",
              "      <td>935.452044</td>\n",
              "      <td>50.383346</td>\n",
              "      <td>6.053840</td>\n",
              "    </tr>\n",
              "    <tr>\n",
              "      <th>min</th>\n",
              "      <td>8.324000e+03</td>\n",
              "      <td>0.000000</td>\n",
              "      <td>0.000000</td>\n",
              "      <td>0.000000</td>\n",
              "      <td>0.000000</td>\n",
              "      <td>0.000000</td>\n",
              "    </tr>\n",
              "    <tr>\n",
              "      <th>25%</th>\n",
              "      <td>4.076925e+05</td>\n",
              "      <td>20.000000</td>\n",
              "      <td>111.000000</td>\n",
              "      <td>4.000000</td>\n",
              "      <td>15.000000</td>\n",
              "      <td>1.000000</td>\n",
              "    </tr>\n",
              "    <tr>\n",
              "      <th>50%</th>\n",
              "      <td>6.879170e+05</td>\n",
              "      <td>45.000000</td>\n",
              "      <td>911.500000</td>\n",
              "      <td>18.000000</td>\n",
              "      <td>25.000000</td>\n",
              "      <td>2.000000</td>\n",
              "    </tr>\n",
              "    <tr>\n",
              "      <th>75%</th>\n",
              "      <td>9.613555e+05</td>\n",
              "      <td>95.000000</td>\n",
              "      <td>2546.000000</td>\n",
              "      <td>67.000000</td>\n",
              "      <td>45.750000</td>\n",
              "      <td>4.500000</td>\n",
              "    </tr>\n",
              "    <tr>\n",
              "      <th>max</th>\n",
              "      <td>1.282064e+06</td>\n",
              "      <td>200.000000</td>\n",
              "      <td>268923.000000</td>\n",
              "      <td>27445.000000</td>\n",
              "      <td>779.000000</td>\n",
              "      <td>78.500000</td>\n",
              "    </tr>\n",
              "  </tbody>\n",
              "</table>\n",
              "</div>\n",
              "    <div class=\"colab-df-buttons\">\n",
              "\n",
              "  <div class=\"colab-df-container\">\n",
              "    <button class=\"colab-df-convert\" onclick=\"convertToInteractive('df-57b0f3b1-621d-4b46-92dc-5c63765a443a')\"\n",
              "            title=\"Convert this dataframe to an interactive table.\"\n",
              "            style=\"display:none;\">\n",
              "\n",
              "  <svg xmlns=\"http://www.w3.org/2000/svg\" height=\"24px\" viewBox=\"0 -960 960 960\">\n",
              "    <path d=\"M120-120v-720h720v720H120Zm60-500h600v-160H180v160Zm220 220h160v-160H400v160Zm0 220h160v-160H400v160ZM180-400h160v-160H180v160Zm440 0h160v-160H620v160ZM180-180h160v-160H180v160Zm440 0h160v-160H620v160Z\"/>\n",
              "  </svg>\n",
              "    </button>\n",
              "\n",
              "  <style>\n",
              "    .colab-df-container {\n",
              "      display:flex;\n",
              "      gap: 12px;\n",
              "    }\n",
              "\n",
              "    .colab-df-convert {\n",
              "      background-color: #E8F0FE;\n",
              "      border: none;\n",
              "      border-radius: 50%;\n",
              "      cursor: pointer;\n",
              "      display: none;\n",
              "      fill: #1967D2;\n",
              "      height: 32px;\n",
              "      padding: 0 0 0 0;\n",
              "      width: 32px;\n",
              "    }\n",
              "\n",
              "    .colab-df-convert:hover {\n",
              "      background-color: #E2EBFA;\n",
              "      box-shadow: 0px 1px 2px rgba(60, 64, 67, 0.3), 0px 1px 3px 1px rgba(60, 64, 67, 0.15);\n",
              "      fill: #174EA6;\n",
              "    }\n",
              "\n",
              "    .colab-df-buttons div {\n",
              "      margin-bottom: 4px;\n",
              "    }\n",
              "\n",
              "    [theme=dark] .colab-df-convert {\n",
              "      background-color: #3B4455;\n",
              "      fill: #D2E3FC;\n",
              "    }\n",
              "\n",
              "    [theme=dark] .colab-df-convert:hover {\n",
              "      background-color: #434B5C;\n",
              "      box-shadow: 0px 1px 3px 1px rgba(0, 0, 0, 0.15);\n",
              "      filter: drop-shadow(0px 1px 2px rgba(0, 0, 0, 0.3));\n",
              "      fill: #FFFFFF;\n",
              "    }\n",
              "  </style>\n",
              "\n",
              "    <script>\n",
              "      const buttonEl =\n",
              "        document.querySelector('#df-57b0f3b1-621d-4b46-92dc-5c63765a443a button.colab-df-convert');\n",
              "      buttonEl.style.display =\n",
              "        google.colab.kernel.accessAllowed ? 'block' : 'none';\n",
              "\n",
              "      async function convertToInteractive(key) {\n",
              "        const element = document.querySelector('#df-57b0f3b1-621d-4b46-92dc-5c63765a443a');\n",
              "        const dataTable =\n",
              "          await google.colab.kernel.invokeFunction('convertToInteractive',\n",
              "                                                    [key], {});\n",
              "        if (!dataTable) return;\n",
              "\n",
              "        const docLinkHtml = 'Like what you see? Visit the ' +\n",
              "          '<a target=\"_blank\" href=https://colab.research.google.com/notebooks/data_table.ipynb>data table notebook</a>'\n",
              "          + ' to learn more about interactive tables.';\n",
              "        element.innerHTML = '';\n",
              "        dataTable['output_type'] = 'display_data';\n",
              "        await google.colab.output.renderOutput(dataTable, element);\n",
              "        const docLink = document.createElement('div');\n",
              "        docLink.innerHTML = docLinkHtml;\n",
              "        element.appendChild(docLink);\n",
              "      }\n",
              "    </script>\n",
              "  </div>\n",
              "\n",
              "\n",
              "<div id=\"df-df4e843f-1eb5-4522-b4da-97f8ea926cad\">\n",
              "  <button class=\"colab-df-quickchart\" onclick=\"quickchart('df-df4e843f-1eb5-4522-b4da-97f8ea926cad')\"\n",
              "            title=\"Suggest charts\"\n",
              "            style=\"display:none;\">\n",
              "\n",
              "<svg xmlns=\"http://www.w3.org/2000/svg\" height=\"24px\"viewBox=\"0 0 24 24\"\n",
              "     width=\"24px\">\n",
              "    <g>\n",
              "        <path d=\"M19 3H5c-1.1 0-2 .9-2 2v14c0 1.1.9 2 2 2h14c1.1 0 2-.9 2-2V5c0-1.1-.9-2-2-2zM9 17H7v-7h2v7zm4 0h-2V7h2v10zm4 0h-2v-4h2v4z\"/>\n",
              "    </g>\n",
              "</svg>\n",
              "  </button>\n",
              "\n",
              "<style>\n",
              "  .colab-df-quickchart {\n",
              "      --bg-color: #E8F0FE;\n",
              "      --fill-color: #1967D2;\n",
              "      --hover-bg-color: #E2EBFA;\n",
              "      --hover-fill-color: #174EA6;\n",
              "      --disabled-fill-color: #AAA;\n",
              "      --disabled-bg-color: #DDD;\n",
              "  }\n",
              "\n",
              "  [theme=dark] .colab-df-quickchart {\n",
              "      --bg-color: #3B4455;\n",
              "      --fill-color: #D2E3FC;\n",
              "      --hover-bg-color: #434B5C;\n",
              "      --hover-fill-color: #FFFFFF;\n",
              "      --disabled-bg-color: #3B4455;\n",
              "      --disabled-fill-color: #666;\n",
              "  }\n",
              "\n",
              "  .colab-df-quickchart {\n",
              "    background-color: var(--bg-color);\n",
              "    border: none;\n",
              "    border-radius: 50%;\n",
              "    cursor: pointer;\n",
              "    display: none;\n",
              "    fill: var(--fill-color);\n",
              "    height: 32px;\n",
              "    padding: 0;\n",
              "    width: 32px;\n",
              "  }\n",
              "\n",
              "  .colab-df-quickchart:hover {\n",
              "    background-color: var(--hover-bg-color);\n",
              "    box-shadow: 0 1px 2px rgba(60, 64, 67, 0.3), 0 1px 3px 1px rgba(60, 64, 67, 0.15);\n",
              "    fill: var(--button-hover-fill-color);\n",
              "  }\n",
              "\n",
              "  .colab-df-quickchart-complete:disabled,\n",
              "  .colab-df-quickchart-complete:disabled:hover {\n",
              "    background-color: var(--disabled-bg-color);\n",
              "    fill: var(--disabled-fill-color);\n",
              "    box-shadow: none;\n",
              "  }\n",
              "\n",
              "  .colab-df-spinner {\n",
              "    border: 2px solid var(--fill-color);\n",
              "    border-color: transparent;\n",
              "    border-bottom-color: var(--fill-color);\n",
              "    animation:\n",
              "      spin 1s steps(1) infinite;\n",
              "  }\n",
              "\n",
              "  @keyframes spin {\n",
              "    0% {\n",
              "      border-color: transparent;\n",
              "      border-bottom-color: var(--fill-color);\n",
              "      border-left-color: var(--fill-color);\n",
              "    }\n",
              "    20% {\n",
              "      border-color: transparent;\n",
              "      border-left-color: var(--fill-color);\n",
              "      border-top-color: var(--fill-color);\n",
              "    }\n",
              "    30% {\n",
              "      border-color: transparent;\n",
              "      border-left-color: var(--fill-color);\n",
              "      border-top-color: var(--fill-color);\n",
              "      border-right-color: var(--fill-color);\n",
              "    }\n",
              "    40% {\n",
              "      border-color: transparent;\n",
              "      border-right-color: var(--fill-color);\n",
              "      border-top-color: var(--fill-color);\n",
              "    }\n",
              "    60% {\n",
              "      border-color: transparent;\n",
              "      border-right-color: var(--fill-color);\n",
              "    }\n",
              "    80% {\n",
              "      border-color: transparent;\n",
              "      border-right-color: var(--fill-color);\n",
              "      border-bottom-color: var(--fill-color);\n",
              "    }\n",
              "    90% {\n",
              "      border-color: transparent;\n",
              "      border-bottom-color: var(--fill-color);\n",
              "    }\n",
              "  }\n",
              "</style>\n",
              "\n",
              "  <script>\n",
              "    async function quickchart(key) {\n",
              "      const quickchartButtonEl =\n",
              "        document.querySelector('#' + key + ' button');\n",
              "      quickchartButtonEl.disabled = true;  // To prevent multiple clicks.\n",
              "      quickchartButtonEl.classList.add('colab-df-spinner');\n",
              "      try {\n",
              "        const charts = await google.colab.kernel.invokeFunction(\n",
              "            'suggestCharts', [key], {});\n",
              "      } catch (error) {\n",
              "        console.error('Error during call to suggestCharts:', error);\n",
              "      }\n",
              "      quickchartButtonEl.classList.remove('colab-df-spinner');\n",
              "      quickchartButtonEl.classList.add('colab-df-quickchart-complete');\n",
              "    }\n",
              "    (() => {\n",
              "      let quickchartButtonEl =\n",
              "        document.querySelector('#df-df4e843f-1eb5-4522-b4da-97f8ea926cad button');\n",
              "      quickchartButtonEl.style.display =\n",
              "        google.colab.kernel.accessAllowed ? 'block' : 'none';\n",
              "    })();\n",
              "  </script>\n",
              "</div>\n",
              "\n",
              "    </div>\n",
              "  </div>\n"
            ],
            "application/vnd.google.colaboratory.intrinsic+json": {
              "type": "dataframe",
              "summary": "{\n  \"name\": \"df\",\n  \"rows\": 8,\n  \"fields\": [\n    {\n      \"column\": \"course_id\",\n      \"properties\": {\n        \"dtype\": \"number\",\n        \"std\": 446378.8705470939,\n        \"min\": 3678.0,\n        \"max\": 1282064.0,\n        \"num_unique_values\": 8,\n        \"samples\": [\n          675971.9632952692,\n          687917.0,\n          3678.0\n        ],\n        \"semantic_type\": \"\",\n        \"description\": \"\"\n      }\n    },\n    {\n      \"column\": \"price\",\n      \"properties\": {\n        \"dtype\": \"number\",\n        \"std\": 1277.2044021211534,\n        \"min\": 0.0,\n        \"max\": 3678.0,\n        \"num_unique_values\": 8,\n        \"samples\": [\n          66.0494834148994,\n          45.0,\n          3678.0\n        ],\n        \"semantic_type\": \"\",\n        \"description\": \"\"\n      }\n    },\n    {\n      \"column\": \"num_subscribers\",\n      \"properties\": {\n        \"dtype\": \"number\",\n        \"std\": 94120.13056666977,\n        \"min\": 0.0,\n        \"max\": 268923.0,\n        \"num_unique_values\": 8,\n        \"samples\": [\n          3197.150625339859,\n          911.5,\n          3678.0\n        ],\n        \"semantic_type\": \"\",\n        \"description\": \"\"\n      }\n    },\n    {\n      \"column\": \"num_reviews\",\n      \"properties\": {\n        \"dtype\": \"number\",\n        \"std\": 9541.03023905795,\n        \"min\": 0.0,\n        \"max\": 27445.0,\n        \"num_unique_values\": 8,\n        \"samples\": [\n          156.25910821098424,\n          18.0,\n          3678.0\n        ],\n        \"semantic_type\": \"\",\n        \"description\": \"\"\n      }\n    },\n    {\n      \"column\": \"num_lectures\",\n      \"properties\": {\n        \"dtype\": \"number\",\n        \"std\": 1279.411064917688,\n        \"min\": 0.0,\n        \"max\": 3678.0,\n        \"num_unique_values\": 8,\n        \"samples\": [\n          40.108754758020666,\n          25.0,\n          3678.0\n        ],\n        \"semantic_type\": \"\",\n        \"description\": \"\"\n      }\n    },\n    {\n      \"column\": \"content_duration\",\n      \"properties\": {\n        \"dtype\": \"number\",\n        \"std\": 1295.784397637758,\n        \"min\": 0.0,\n        \"max\": 3678.0,\n        \"num_unique_values\": 8,\n        \"samples\": [\n          4.094516947616459,\n          2.0,\n          3678.0\n        ],\n        \"semantic_type\": \"\",\n        \"description\": \"\"\n      }\n    }\n  ]\n}"
            }
          },
          "metadata": {},
          "execution_count": 6
        }
      ]
    },
    {
      "cell_type": "code",
      "source": [
        "print('Sum of null values:')\n",
        "df.isnull().sum()"
      ],
      "metadata": {
        "colab": {
          "base_uri": "https://localhost:8080/",
          "height": 478
        },
        "id": "ARBjiAsmSD_i",
        "outputId": "3a19e2f6-5b41-4dbc-bcd9-6227e56050f1"
      },
      "execution_count": 7,
      "outputs": [
        {
          "output_type": "stream",
          "name": "stdout",
          "text": [
            "Sum of null values:\n"
          ]
        },
        {
          "output_type": "execute_result",
          "data": {
            "text/plain": [
              "course_id              0\n",
              "course_title           0\n",
              "url                    0\n",
              "is_paid                0\n",
              "price                  0\n",
              "num_subscribers        0\n",
              "num_reviews            0\n",
              "num_lectures           0\n",
              "level                  0\n",
              "content_duration       0\n",
              "published_timestamp    0\n",
              "subject                0\n",
              "dtype: int64"
            ],
            "text/html": [
              "<div>\n",
              "<style scoped>\n",
              "    .dataframe tbody tr th:only-of-type {\n",
              "        vertical-align: middle;\n",
              "    }\n",
              "\n",
              "    .dataframe tbody tr th {\n",
              "        vertical-align: top;\n",
              "    }\n",
              "\n",
              "    .dataframe thead th {\n",
              "        text-align: right;\n",
              "    }\n",
              "</style>\n",
              "<table border=\"1\" class=\"dataframe\">\n",
              "  <thead>\n",
              "    <tr style=\"text-align: right;\">\n",
              "      <th></th>\n",
              "      <th>0</th>\n",
              "    </tr>\n",
              "  </thead>\n",
              "  <tbody>\n",
              "    <tr>\n",
              "      <th>course_id</th>\n",
              "      <td>0</td>\n",
              "    </tr>\n",
              "    <tr>\n",
              "      <th>course_title</th>\n",
              "      <td>0</td>\n",
              "    </tr>\n",
              "    <tr>\n",
              "      <th>url</th>\n",
              "      <td>0</td>\n",
              "    </tr>\n",
              "    <tr>\n",
              "      <th>is_paid</th>\n",
              "      <td>0</td>\n",
              "    </tr>\n",
              "    <tr>\n",
              "      <th>price</th>\n",
              "      <td>0</td>\n",
              "    </tr>\n",
              "    <tr>\n",
              "      <th>num_subscribers</th>\n",
              "      <td>0</td>\n",
              "    </tr>\n",
              "    <tr>\n",
              "      <th>num_reviews</th>\n",
              "      <td>0</td>\n",
              "    </tr>\n",
              "    <tr>\n",
              "      <th>num_lectures</th>\n",
              "      <td>0</td>\n",
              "    </tr>\n",
              "    <tr>\n",
              "      <th>level</th>\n",
              "      <td>0</td>\n",
              "    </tr>\n",
              "    <tr>\n",
              "      <th>content_duration</th>\n",
              "      <td>0</td>\n",
              "    </tr>\n",
              "    <tr>\n",
              "      <th>published_timestamp</th>\n",
              "      <td>0</td>\n",
              "    </tr>\n",
              "    <tr>\n",
              "      <th>subject</th>\n",
              "      <td>0</td>\n",
              "    </tr>\n",
              "  </tbody>\n",
              "</table>\n",
              "</div><br><label><b>dtype:</b> int64</label>"
            ]
          },
          "metadata": {},
          "execution_count": 7
        }
      ]
    },
    {
      "cell_type": "code",
      "source": [
        "#  removing unnecessary columns\n",
        "df.drop('url',axis=1,inplace=True)"
      ],
      "metadata": {
        "id": "32PCivndWxZO"
      },
      "execution_count": 8,
      "outputs": []
    },
    {
      "cell_type": "code",
      "source": [
        "df.dtypes"
      ],
      "metadata": {
        "colab": {
          "base_uri": "https://localhost:8080/",
          "height": 429
        },
        "id": "eToxgFMSW9aS",
        "outputId": "296c2135-1699-4039-db70-174a4de52dd7"
      },
      "execution_count": 9,
      "outputs": [
        {
          "output_type": "execute_result",
          "data": {
            "text/plain": [
              "course_id                int64\n",
              "course_title            object\n",
              "is_paid                   bool\n",
              "price                    int64\n",
              "num_subscribers          int64\n",
              "num_reviews              int64\n",
              "num_lectures             int64\n",
              "level                   object\n",
              "content_duration       float64\n",
              "published_timestamp     object\n",
              "subject                 object\n",
              "dtype: object"
            ],
            "text/html": [
              "<div>\n",
              "<style scoped>\n",
              "    .dataframe tbody tr th:only-of-type {\n",
              "        vertical-align: middle;\n",
              "    }\n",
              "\n",
              "    .dataframe tbody tr th {\n",
              "        vertical-align: top;\n",
              "    }\n",
              "\n",
              "    .dataframe thead th {\n",
              "        text-align: right;\n",
              "    }\n",
              "</style>\n",
              "<table border=\"1\" class=\"dataframe\">\n",
              "  <thead>\n",
              "    <tr style=\"text-align: right;\">\n",
              "      <th></th>\n",
              "      <th>0</th>\n",
              "    </tr>\n",
              "  </thead>\n",
              "  <tbody>\n",
              "    <tr>\n",
              "      <th>course_id</th>\n",
              "      <td>int64</td>\n",
              "    </tr>\n",
              "    <tr>\n",
              "      <th>course_title</th>\n",
              "      <td>object</td>\n",
              "    </tr>\n",
              "    <tr>\n",
              "      <th>is_paid</th>\n",
              "      <td>bool</td>\n",
              "    </tr>\n",
              "    <tr>\n",
              "      <th>price</th>\n",
              "      <td>int64</td>\n",
              "    </tr>\n",
              "    <tr>\n",
              "      <th>num_subscribers</th>\n",
              "      <td>int64</td>\n",
              "    </tr>\n",
              "    <tr>\n",
              "      <th>num_reviews</th>\n",
              "      <td>int64</td>\n",
              "    </tr>\n",
              "    <tr>\n",
              "      <th>num_lectures</th>\n",
              "      <td>int64</td>\n",
              "    </tr>\n",
              "    <tr>\n",
              "      <th>level</th>\n",
              "      <td>object</td>\n",
              "    </tr>\n",
              "    <tr>\n",
              "      <th>content_duration</th>\n",
              "      <td>float64</td>\n",
              "    </tr>\n",
              "    <tr>\n",
              "      <th>published_timestamp</th>\n",
              "      <td>object</td>\n",
              "    </tr>\n",
              "    <tr>\n",
              "      <th>subject</th>\n",
              "      <td>object</td>\n",
              "    </tr>\n",
              "  </tbody>\n",
              "</table>\n",
              "</div><br><label><b>dtype:</b> object</label>"
            ]
          },
          "metadata": {},
          "execution_count": 9
        }
      ]
    },
    {
      "cell_type": "code",
      "source": [
        "# convert published_timestamp from object to datetime\n",
        "df['published_timestamp'] = pd.to_datetime(df['published_timestamp'])"
      ],
      "metadata": {
        "id": "bR76NdQAXFw4"
      },
      "execution_count": 10,
      "outputs": []
    },
    {
      "cell_type": "markdown",
      "source": [
        "## Performing Exploratory Data Analysis (EDA)"
      ],
      "metadata": {
        "id": "pYj1e8xWXMI2"
      }
    },
    {
      "cell_type": "code",
      "source": [
        "# free Vs Paid Courses\n",
        "sns.countplot(x='is_paid',data=df)\n",
        "plt.title('Paid And Free Courses')"
      ],
      "metadata": {
        "colab": {
          "base_uri": "https://localhost:8080/",
          "height": 490
        },
        "id": "iBJIQKgFXIRP",
        "outputId": "0de8cdad-c925-4cbb-d581-719fbdf3a480"
      },
      "execution_count": 11,
      "outputs": [
        {
          "output_type": "execute_result",
          "data": {
            "text/plain": [
              "Text(0.5, 1.0, 'Paid And Free Courses')"
            ]
          },
          "metadata": {},
          "execution_count": 11
        },
        {
          "output_type": "display_data",
          "data": {
            "text/plain": [
              "<Figure size 640x480 with 1 Axes>"
            ],
            "image/png": "[encoded data removed]"
          },
          "metadata": {}
        }
      ]
    },
    {
      "cell_type": "markdown",
      "source": [
        "Insight: Most courses are paid ones"
      ],
      "metadata": {
        "id": "hNrv0DVUXr81"
      }
    },
    {
      "cell_type": "code",
      "source": [
        "sns.countplot(x='level',data=df)"
      ],
      "metadata": {
        "colab": {
          "base_uri": "https://localhost:8080/",
          "height": 468
        },
        "id": "tYaTGyXJXgkl",
        "outputId": "6ddaa6d0-69d3-4896-b4e6-38211a332591"
      },
      "execution_count": 12,
      "outputs": [
        {
          "output_type": "execute_result",
          "data": {
            "text/plain": [
              "<Axes: xlabel='level', ylabel='count'>"
            ]
          },
          "metadata": {},
          "execution_count": 12
        },
        {
          "output_type": "display_data",
          "data": {
            "text/plain": [
              "<Figure size 640x480 with 1 Axes>"
            ],
            "image/png": "[encoded data removed]"
          },
          "metadata": {}
        }
      ]
    },
    {
      "cell_type": "markdown",
      "source": [
        "Insight: Most Of The Courses are All Levels , Need More From Expert Level"
      ],
      "metadata": {
        "id": "0nzvlP8xX4w2"
      }
    },
    {
      "cell_type": "code",
      "source": [
        "plt.figure(figsize=(12,8))\n",
        "sns.countplot(x='subject',data=df)"
      ],
      "metadata": {
        "colab": {
          "base_uri": "https://localhost:8080/",
          "height": 714
        },
        "id": "ymM6sYNIX0wV",
        "outputId": "efc488b5-21b7-49c7-f7b7-326d3500163b"
      },
      "execution_count": 13,
      "outputs": [
        {
          "output_type": "execute_result",
          "data": {
            "text/plain": [
              "<Axes: xlabel='subject', ylabel='count'>"
            ]
          },
          "metadata": {},
          "execution_count": 13
        },
        {
          "output_type": "display_data",
          "data": {
            "text/plain": [
              "<Figure size 1200x800 with 1 Axes>"
            ],
            "image/png": "[encoded data removed]"
          },
          "metadata": {}
        }
      ]
    },
    {
      "cell_type": "markdown",
      "source": [
        "Insight: Most Of Students care about Business Finance & Web Development"
      ],
      "metadata": {
        "id": "AiGG_lDMYB1l"
      }
    },
    {
      "cell_type": "code",
      "source": [
        "df.select_dtypes(include=np.number).corr()"
      ],
      "metadata": {
        "colab": {
          "base_uri": "https://localhost:8080/",
          "height": 237
        },
        "id": "wuJm1tTRX-Ko",
        "outputId": "79a3279b-b2c4-4716-d919-2dd3e92c9f00"
      },
      "execution_count": 14,
      "outputs": [
        {
          "output_type": "execute_result",
          "data": {
            "text/plain": [
              "                  course_id     price  num_subscribers  num_reviews  \\\n",
              "course_id          1.000000  0.142319        -0.167856    -0.058550   \n",
              "price              0.142319  1.000000         0.050769     0.113696   \n",
              "num_subscribers   -0.167856  0.050769         1.000000     0.649946   \n",
              "num_reviews       -0.058550  0.113696         0.649946     1.000000   \n",
              "num_lectures      -0.024646  0.330160         0.157746     0.243029   \n",
              "content_duration  -0.057223  0.293450         0.161839     0.228889   \n",
              "\n",
              "                  num_lectures  content_duration  \n",
              "course_id            -0.024646         -0.057223  \n",
              "price                 0.330160          0.293450  \n",
              "num_subscribers       0.157746          0.161839  \n",
              "num_reviews           0.243029          0.228889  \n",
              "num_lectures          1.000000          0.801647  \n",
              "content_duration      0.801647          1.000000  "
            ],
            "text/html": [
              "\n",
              "  <div id=\"df-efb63aa0-8335-47f4-95f7-e9b2e336a59b\" class=\"colab-df-container\">\n",
              "    <div>\n",
              "<style scoped>\n",
              "    .dataframe tbody tr th:only-of-type {\n",
              "        vertical-align: middle;\n",
              "    }\n",
              "\n",
              "    .dataframe tbody tr th {\n",
              "        vertical-align: top;\n",
              "    }\n",
              "\n",
              "    .dataframe thead th {\n",
              "        text-align: right;\n",
              "    }\n",
              "</style>\n",
              "<table border=\"1\" class=\"dataframe\">\n",
              "  <thead>\n",
              "    <tr style=\"text-align: right;\">\n",
              "      <th></th>\n",
              "      <th>course_id</th>\n",
              "      <th>price</th>\n",
              "      <th>num_subscribers</th>\n",
              "      <th>num_reviews</th>\n",
              "      <th>num_lectures</th>\n",
              "      <th>content_duration</th>\n",
              "    </tr>\n",
              "  </thead>\n",
              "  <tbody>\n",
              "    <tr>\n",
              "      <th>course_id</th>\n",
              "      <td>1.000000</td>\n",
              "      <td>0.142319</td>\n",
              "      <td>-0.167856</td>\n",
              "      <td>-0.058550</td>\n",
              "      <td>-0.024646</td>\n",
              "      <td>-0.057223</td>\n",
              "    </tr>\n",
              "    <tr>\n",
              "      <th>price</th>\n",
              "      <td>0.142319</td>\n",
              "      <td>1.000000</td>\n",
              "      <td>0.050769</td>\n",
              "      <td>0.113696</td>\n",
              "      <td>0.330160</td>\n",
              "      <td>0.293450</td>\n",
              "    </tr>\n",
              "    <tr>\n",
              "      <th>num_subscribers</th>\n",
              "      <td>-0.167856</td>\n",
              "      <td>0.050769</td>\n",
              "      <td>1.000000</td>\n",
              "      <td>0.649946</td>\n",
              "      <td>0.157746</td>\n",
              "      <td>0.161839</td>\n",
              "    </tr>\n",
              "    <tr>\n",
              "      <th>num_reviews</th>\n",
              "      <td>-0.058550</td>\n",
              "      <td>0.113696</td>\n",
              "      <td>0.649946</td>\n",
              "      <td>1.000000</td>\n",
              "      <td>0.243029</td>\n",
              "      <td>0.228889</td>\n",
              "    </tr>\n",
              "    <tr>\n",
              "      <th>num_lectures</th>\n",
              "      <td>-0.024646</td>\n",
              "      <td>0.330160</td>\n",
              "      <td>0.157746</td>\n",
              "      <td>0.243029</td>\n",
              "      <td>1.000000</td>\n",
              "      <td>0.801647</td>\n",
              "    </tr>\n",
              "    <tr>\n",
              "      <th>content_duration</th>\n",
              "      <td>-0.057223</td>\n",
              "      <td>0.293450</td>\n",
              "      <td>0.161839</td>\n",
              "      <td>0.228889</td>\n",
              "      <td>0.801647</td>\n",
              "      <td>1.000000</td>\n",
              "    </tr>\n",
              "  </tbody>\n",
              "</table>\n",
              "</div>\n",
              "    <div class=\"colab-df-buttons\">\n",
              "\n",
              "  <div class=\"colab-df-container\">\n",
              "    <button class=\"colab-df-convert\" onclick=\"convertToInteractive('df-efb63aa0-8335-47f4-95f7-e9b2e336a59b')\"\n",
              "            title=\"Convert this dataframe to an interactive table.\"\n",
              "            style=\"display:none;\">\n",
              "\n",
              "  <svg xmlns=\"http://www.w3.org/2000/svg\" height=\"24px\" viewBox=\"0 -960 960 960\">\n",
              "    <path d=\"M120-120v-720h720v720H120Zm60-500h600v-160H180v160Zm220 220h160v-160H400v160Zm0 220h160v-160H400v160ZM180-400h160v-160H180v160Zm440 0h160v-160H620v160ZM180-180h160v-160H180v160Zm440 0h160v-160H620v160Z\"/>\n",
              "  </svg>\n",
              "    </button>\n",
              "\n",
              "  <style>\n",
              "    .colab-df-container {\n",
              "      display:flex;\n",
              "      gap: 12px;\n",
              "    }\n",
              "\n",
              "    .colab-df-convert {\n",
              "      background-color: #E8F0FE;\n",
              "      border: none;\n",
              "      border-radius: 50%;\n",
              "      cursor: pointer;\n",
              "      display: none;\n",
              "      fill: #1967D2;\n",
              "      height: 32px;\n",
              "      padding: 0 0 0 0;\n",
              "      width: 32px;\n",
              "    }\n",
              "\n",
              "    .colab-df-convert:hover {\n",
              "      background-color: #E2EBFA;\n",
              "      box-shadow: 0px 1px 2px rgba(60, 64, 67, 0.3), 0px 1px 3px 1px rgba(60, 64, 67, 0.15);\n",
              "      fill: #174EA6;\n",
              "    }\n",
              "\n",
              "    .colab-df-buttons div {\n",
              "      margin-bottom: 4px;\n",
              "    }\n",
              "\n",
              "    [theme=dark] .colab-df-convert {\n",
              "      background-color: #3B4455;\n",
              "      fill: #D2E3FC;\n",
              "    }\n",
              "\n",
              "    [theme=dark] .colab-df-convert:hover {\n",
              "      background-color: #434B5C;\n",
              "      box-shadow: 0px 1px 3px 1px rgba(0, 0, 0, 0.15);\n",
              "      filter: drop-shadow(0px 1px 2px rgba(0, 0, 0, 0.3));\n",
              "      fill: #FFFFFF;\n",
              "    }\n",
              "  </style>\n",
              "\n",
              "    <script>\n",
              "      const buttonEl =\n",
              "        document.querySelector('#df-efb63aa0-8335-47f4-95f7-e9b2e336a59b button.colab-df-convert');\n",
              "      buttonEl.style.display =\n",
              "        google.colab.kernel.accessAllowed ? 'block' : 'none';\n",
              "\n",
              "      async function convertToInteractive(key) {\n",
              "        const element = document.querySelector('#df-efb63aa0-8335-47f4-95f7-e9b2e336a59b');\n",
              "        const dataTable =\n",
              "          await google.colab.kernel.invokeFunction('convertToInteractive',\n",
              "                                                    [key], {});\n",
              "        if (!dataTable) return;\n",
              "\n",
              "        const docLinkHtml = 'Like what you see? Visit the ' +\n",
              "          '<a target=\"_blank\" href=https://colab.research.google.com/notebooks/data_table.ipynb>data table notebook</a>'\n",
              "          + ' to learn more about interactive tables.';\n",
              "        element.innerHTML = '';\n",
              "        dataTable['output_type'] = 'display_data';\n",
              "        await google.colab.output.renderOutput(dataTable, element);\n",
              "        const docLink = document.createElement('div');\n",
              "        docLink.innerHTML = docLinkHtml;\n",
              "        element.appendChild(docLink);\n",
              "      }\n",
              "    </script>\n",
              "  </div>\n",
              "\n",
              "\n",
              "<div id=\"df-4d055281-693b-4f06-98e6-8464a0db8b9e\">\n",
              "  <button class=\"colab-df-quickchart\" onclick=\"quickchart('df-4d055281-693b-4f06-98e6-8464a0db8b9e')\"\n",
              "            title=\"Suggest charts\"\n",
              "            style=\"display:none;\">\n",
              "\n",
              "<svg xmlns=\"http://www.w3.org/2000/svg\" height=\"24px\"viewBox=\"0 0 24 24\"\n",
              "     width=\"24px\">\n",
              "    <g>\n",
              "        <path d=\"M19 3H5c-1.1 0-2 .9-2 2v14c0 1.1.9 2 2 2h14c1.1 0 2-.9 2-2V5c0-1.1-.9-2-2-2zM9 17H7v-7h2v7zm4 0h-2V7h2v10zm4 0h-2v-4h2v4z\"/>\n",
              "    </g>\n",
              "</svg>\n",
              "  </button>\n",
              "\n",
              "<style>\n",
              "  .colab-df-quickchart {\n",
              "      --bg-color: #E8F0FE;\n",
              "      --fill-color: #1967D2;\n",
              "      --hover-bg-color: #E2EBFA;\n",
              "      --hover-fill-color: #174EA6;\n",
              "      --disabled-fill-color: #AAA;\n",
              "      --disabled-bg-color: #DDD;\n",
              "  }\n",
              "\n",
              "  [theme=dark] .colab-df-quickchart {\n",
              "      --bg-color: #3B4455;\n",
              "      --fill-color: #D2E3FC;\n",
              "      --hover-bg-color: #434B5C;\n",
              "      --hover-fill-color: #FFFFFF;\n",
              "      --disabled-bg-color: #3B4455;\n",
              "      --disabled-fill-color: #666;\n",
              "  }\n",
              "\n",
              "  .colab-df-quickchart {\n",
              "    background-color: var(--bg-color);\n",
              "    border: none;\n",
              "    border-radius: 50%;\n",
              "    cursor: pointer;\n",
              "    display: none;\n",
              "    fill: var(--fill-color);\n",
              "    height: 32px;\n",
              "    padding: 0;\n",
              "    width: 32px;\n",
              "  }\n",
              "\n",
              "  .colab-df-quickchart:hover {\n",
              "    background-color: var(--hover-bg-color);\n",
              "    box-shadow: 0 1px 2px rgba(60, 64, 67, 0.3), 0 1px 3px 1px rgba(60, 64, 67, 0.15);\n",
              "    fill: var(--button-hover-fill-color);\n",
              "  }\n",
              "\n",
              "  .colab-df-quickchart-complete:disabled,\n",
              "  .colab-df-quickchart-complete:disabled:hover {\n",
              "    background-color: var(--disabled-bg-color);\n",
              "    fill: var(--disabled-fill-color);\n",
              "    box-shadow: none;\n",
              "  }\n",
              "\n",
              "  .colab-df-spinner {\n",
              "    border: 2px solid var(--fill-color);\n",
              "    border-color: transparent;\n",
              "    border-bottom-color: var(--fill-color);\n",
              "    animation:\n",
              "      spin 1s steps(1) infinite;\n",
              "  }\n",
              "\n",
              "  @keyframes spin {\n",
              "    0% {\n",
              "      border-color: transparent;\n",
              "      border-bottom-color: var(--fill-color);\n",
              "      border-left-color: var(--fill-color);\n",
              "    }\n",
              "    20% {\n",
              "      border-color: transparent;\n",
              "      border-left-color: var(--fill-color);\n",
              "      border-top-color: var(--fill-color);\n",
              "    }\n",
              "    30% {\n",
              "      border-color: transparent;\n",
              "      border-left-color: var(--fill-color);\n",
              "      border-top-color: var(--fill-color);\n",
              "      border-right-color: var(--fill-color);\n",
              "    }\n",
              "    40% {\n",
              "      border-color: transparent;\n",
              "      border-right-color: var(--fill-color);\n",
              "      border-top-color: var(--fill-color);\n",
              "    }\n",
              "    60% {\n",
              "      border-color: transparent;\n",
              "      border-right-color: var(--fill-color);\n",
              "    }\n",
              "    80% {\n",
              "      border-color: transparent;\n",
              "      border-right-color: var(--fill-color);\n",
              "      border-bottom-color: var(--fill-color);\n",
              "    }\n",
              "    90% {\n",
              "      border-color: transparent;\n",
              "      border-bottom-color: var(--fill-color);\n",
              "    }\n",
              "  }\n",
              "</style>\n",
              "\n",
              "  <script>\n",
              "    async function quickchart(key) {\n",
              "      const quickchartButtonEl =\n",
              "        document.querySelector('#' + key + ' button');\n",
              "      quickchartButtonEl.disabled = true;  // To prevent multiple clicks.\n",
              "      quickchartButtonEl.classList.add('colab-df-spinner');\n",
              "      try {\n",
              "        const charts = await google.colab.kernel.invokeFunction(\n",
              "            'suggestCharts', [key], {});\n",
              "      } catch (error) {\n",
              "        console.error('Error during call to suggestCharts:', error);\n",
              "      }\n",
              "      quickchartButtonEl.classList.remove('colab-df-spinner');\n",
              "      quickchartButtonEl.classList.add('colab-df-quickchart-complete');\n",
              "    }\n",
              "    (() => {\n",
              "      let quickchartButtonEl =\n",
              "        document.querySelector('#df-4d055281-693b-4f06-98e6-8464a0db8b9e button');\n",
              "      quickchartButtonEl.style.display =\n",
              "        google.colab.kernel.accessAllowed ? 'block' : 'none';\n",
              "    })();\n",
              "  </script>\n",
              "</div>\n",
              "\n",
              "    </div>\n",
              "  </div>\n"
            ],
            "application/vnd.google.colaboratory.intrinsic+json": {
              "type": "dataframe",
              "summary": "{\n  \"name\": \"df\",\n  \"rows\": 6,\n  \"fields\": [\n    {\n      \"column\": \"course_id\",\n      \"properties\": {\n        \"dtype\": \"number\",\n        \"std\": 0.4335440227508601,\n        \"min\": -0.16785584471737236,\n        \"max\": 1.0,\n        \"num_unique_values\": 6,\n        \"samples\": [\n          1.0,\n          0.14231932492535931,\n          -0.05722297005055419\n        ],\n        \"semantic_type\": \"\",\n        \"description\": \"\"\n      }\n    },\n    {\n      \"column\": \"price\",\n      \"properties\": {\n        \"dtype\": \"number\",\n        \"std\": 0.34922974922904526,\n        \"min\": 0.0507693488258663,\n        \"max\": 1.0,\n        \"num_unique_values\": 6,\n        \"samples\": [\n          0.14231932492535931,\n          1.0,\n          0.29344961990154855\n        ],\n        \"semantic_type\": \"\",\n        \"description\": \"\"\n      }\n    },\n    {\n      \"column\": \"num_subscribers\",\n      \"properties\": {\n        \"dtype\": \"number\",\n        \"std\": 0.4318178738551472,\n        \"min\": -0.16785584471737236,\n        \"max\": 1.0,\n        \"num_unique_values\": 6,\n        \"samples\": [\n          -0.16785584471737236,\n          0.0507693488258663,\n          0.16183867741001348\n        ],\n        \"semantic_type\": \"\",\n        \"description\": \"\"\n      }\n    },\n    {\n      \"column\": \"num_reviews\",\n      \"properties\": {\n        \"dtype\": \"number\",\n        \"std\": 0.3899595807388605,\n        \"min\": -0.05855011689445094,\n        \"max\": 1.0,\n        \"num_unique_values\": 6,\n        \"samples\": [\n          -0.05855011689445094,\n          0.11369591938207195,\n          0.22888928805305028\n        ],\n        \"semantic_type\": \"\",\n        \"description\": \"\"\n      }\n    },\n    {\n      \"column\": \"num_lectures\",\n      \"properties\": {\n        \"dtype\": \"number\",\n        \"std\": 0.3969654298594506,\n        \"min\": -0.02464616899063692,\n        \"max\": 1.0,\n        \"num_unique_values\": 6,\n        \"samples\": [\n          -0.02464616899063692,\n          0.33016044816281165,\n          0.8016470509890067\n        ],\n        \"semantic_type\": \"\",\n        \"description\": \"\"\n      }\n    },\n    {\n      \"column\": \"content_duration\",\n      \"properties\": {\n        \"dtype\": \"number\",\n        \"std\": 0.40683891902751673,\n        \"min\": -0.05722297005055419,\n        \"max\": 1.0,\n        \"num_unique_values\": 6,\n        \"samples\": [\n          -0.05722297005055419,\n          0.29344961990154855,\n          1.0\n        ],\n        \"semantic_type\": \"\",\n        \"description\": \"\"\n      }\n    }\n  ]\n}"
            }
          },
          "metadata": {},
          "execution_count": 14
        }
      ]
    },
    {
      "cell_type": "code",
      "source": [
        "## See Correlation In Seaborn ColorMap\n",
        "plt.figure(figsize=(12,8))\n",
        "sns.heatmap(df.select_dtypes(include=np.number).corr(),annot=True)"
      ],
      "metadata": {
        "colab": {
          "base_uri": "https://localhost:8080/",
          "height": 700
        },
        "id": "jvuDrc5SYVGL",
        "outputId": "226166ad-3463-4ed7-c76a-8c3798cc2f46"
      },
      "execution_count": 15,
      "outputs": [
        {
          "output_type": "execute_result",
          "data": {
            "text/plain": [
              "<Axes: >"
            ]
          },
          "metadata": {},
          "execution_count": 15
        },
        {
          "output_type": "display_data",
          "data": {
            "text/plain": [
              "<Figure size 1200x800 with 2 Axes>"
            ],
            "image/png": "[encoded data removed]"
          },
          "metadata": {}
        }
      ]
    },
    {
      "cell_type": "code",
      "source": [
        "# visualize subscribers with price\n",
        "plt.figure(figsize=(12,8))\n",
        "sns.regplot(x=\"price\" , y=\"num_subscribers\" , data=df)"
      ],
      "metadata": {
        "colab": {
          "base_uri": "https://localhost:8080/",
          "height": 714
        },
        "id": "YkeDC4vgYc19",
        "outputId": "07f7bc1e-2b45-4d9b-82cc-825191eb64b0"
      },
      "execution_count": 16,
      "outputs": [
        {
          "output_type": "execute_result",
          "data": {
            "text/plain": [
              "<Axes: xlabel='price', ylabel='num_subscribers'>"
            ]
          },
          "metadata": {},
          "execution_count": 16
        },
        {
          "output_type": "display_data",
          "data": {
            "text/plain": [
              "<Figure size 1200x800 with 1 Axes>"
            ],
            "image/png": "[encoded data removed]"
          },
          "metadata": {}
        }
      ]
    },
    {
      "cell_type": "code",
      "source": [
        "plt.figure(figsize=(12,8))\n",
        "sns.regplot(x=\"price\" , y=\"num_reviews\" , data=df)"
      ],
      "metadata": {
        "colab": {
          "base_uri": "https://localhost:8080/",
          "height": 714
        },
        "id": "Gmb4n3yGYssv",
        "outputId": "a9d8dae9-e000-4620-f459-2cf234d52e22"
      },
      "execution_count": 17,
      "outputs": [
        {
          "output_type": "execute_result",
          "data": {
            "text/plain": [
              "<Axes: xlabel='price', ylabel='num_reviews'>"
            ]
          },
          "metadata": {},
          "execution_count": 17
        },
        {
          "output_type": "display_data",
          "data": {
            "text/plain": [
              "<Figure size 1200x800 with 1 Axes>"
            ],
            "image/png": "[encoded data removed]"
          },
          "metadata": {}
        }
      ]
    },
    {
      "cell_type": "markdown",
      "source": [
        "Insight: Price Does Not Affect Reviews"
      ],
      "metadata": {
        "id": "rMcv72O0YucL"
      }
    },
    {
      "cell_type": "code",
      "source": [
        "# price vs course duration\n",
        "plt.figure(figsize=(12,8))\n",
        "sns.regplot(x=\"price\" , y=\"content_duration\" , data=df)"
      ],
      "metadata": {
        "colab": {
          "base_uri": "https://localhost:8080/",
          "height": 714
        },
        "id": "JRaT4mOFYzKd",
        "outputId": "9aaa91f6-3db2-4063-ff1d-94b876d09e08"
      },
      "execution_count": 18,
      "outputs": [
        {
          "output_type": "execute_result",
          "data": {
            "text/plain": [
              "<Axes: xlabel='price', ylabel='content_duration'>"
            ]
          },
          "metadata": {},
          "execution_count": 18
        },
        {
          "output_type": "display_data",
          "data": {
            "text/plain": [
              "<Figure size 1200x800 with 1 Axes>"
            ],
            "image/png": "[encoded data removed]"
          },
          "metadata": {}
        }
      ]
    },
    {
      "cell_type": "markdown",
      "source": [
        "Insight: Price Does Not Affect Course Duration"
      ],
      "metadata": {
        "id": "WKuPzEYJY57-"
      }
    },
    {
      "cell_type": "code",
      "source": [
        "# course duration vs num of subscribers\n",
        "plt.figure(figsize=(12,8))\n",
        "sns.regplot(x=\"num_subscribers\" , y=\"content_duration\" , data=df)"
      ],
      "metadata": {
        "colab": {
          "base_uri": "https://localhost:8080/",
          "height": 714
        },
        "id": "AEVBV9RwY8Cy",
        "outputId": "7e0cb95c-5c9f-4278-fc3a-06626350fb17"
      },
      "execution_count": 19,
      "outputs": [
        {
          "output_type": "execute_result",
          "data": {
            "text/plain": [
              "<Axes: xlabel='num_subscribers', ylabel='content_duration'>"
            ]
          },
          "metadata": {},
          "execution_count": 19
        },
        {
          "output_type": "display_data",
          "data": {
            "text/plain": [
              "<Figure size 1200x800 with 1 Axes>"
            ],
            "image/png": "[encoded data removed]"
          },
          "metadata": {}
        }
      ]
    },
    {
      "cell_type": "markdown",
      "source": [
        "Insight: probably course time affect course subscribers"
      ],
      "metadata": {
        "id": "q6uOfNOhZD5x"
      }
    },
    {
      "cell_type": "code",
      "source": [
        "# num of subscribers vs num of reviews\n",
        "plt.figure(figsize=(12,8))\n",
        "sns.regplot(x=\"num_subscribers\" , y=\"num_reviews\" , data=df)"
      ],
      "metadata": {
        "colab": {
          "base_uri": "https://localhost:8080/",
          "height": 714
        },
        "id": "2q5xtyfGZH0X",
        "outputId": "67b26cd3-6d74-4f2c-eb93-8dffd32214f2"
      },
      "execution_count": 20,
      "outputs": [
        {
          "output_type": "execute_result",
          "data": {
            "text/plain": [
              "<Axes: xlabel='num_subscribers', ylabel='num_reviews'>"
            ]
          },
          "metadata": {},
          "execution_count": 20
        },
        {
          "output_type": "display_data",
          "data": {
            "text/plain": [
              "<Figure size 1200x800 with 1 Axes>"
            ],
            "image/png": "[encoded data removed]"
          },
          "metadata": {}
        }
      ]
    },
    {
      "cell_type": "markdown",
      "source": [
        "Insight: More Subscribers leads to more reviews"
      ],
      "metadata": {
        "id": "cIxShK1GZQGd"
      }
    },
    {
      "cell_type": "markdown",
      "source": [
        "## Model Building, Evaluation & Tuning"
      ],
      "metadata": {
        "id": "MDNMjLrd4UKF"
      }
    },
    {
      "cell_type": "code",
      "source": [
        "from sklearn.model_selection import train_test_split\n",
        "import pandas as pd\n",
        "from sklearn.linear_model import LogisticRegression\n",
        "from sklearn.tree import DecisionTreeClassifier\n",
        "from sklearn.ensemble import RandomForestClassifier, GradientBoostingClassifier\n",
        "from sklearn.metrics import classification_report, confusion_matrix, roc_curve, auc\n",
        "import numpy as np\n",
        "# Select only numerical columns for features\n",
        "X = df.select_dtypes(include=np.number)\n",
        "y = df['is_paid'] if 'is_paid' in df.columns else pd.Series([0]*len(df))\n",
        "\n",
        "X_train, X_test, y_train, y_test = train_test_split(X, y, test_size=0.2, random_state=42)"
      ],
      "metadata": {
        "id": "cENiYBdOapwN"
      },
      "execution_count": 21,
      "outputs": []
    },
    {
      "cell_type": "code",
      "source": [
        "# Trying multiple models\n",
        "models = {\n",
        "    'Logistic Regression': LogisticRegression(),\n",
        "    'Decision Tree': DecisionTreeClassifier(),\n",
        "    'Random Forest': RandomForestClassifier(),\n",
        "    'Gradient Boosting': GradientBoostingClassifier()\n",
        "}\n",
        "\n",
        "for name, model in models.items():\n",
        "    model.fit(X_train, y_train)\n",
        "    y_pred = model.predict(X_test)\n",
        "    print(f'\\nModel: {name}')\n",
        "    print(classification_report(y_test, y_pred))"
      ],
      "metadata": {
        "colab": {
          "base_uri": "https://localhost:8080/"
        },
        "id": "CJ3AhXgzau1E",
        "outputId": "a2bace17-a901-455d-86f8-7fc8062f5326"
      },
      "execution_count": 22,
      "outputs": [
        {
          "output_type": "stream",
          "name": "stderr",
          "text": [
            "/usr/local/lib/python3.11/dist-packages/sklearn/linear_model/_logistic.py:465: ConvergenceWarning: lbfgs failed to converge (status=1):\n",
            "STOP: TOTAL NO. of ITERATIONS REACHED LIMIT.\n",
            "\n",
            "Increase the number of iterations (max_iter) or scale the data as shown in:\n",
            "    https://scikit-learn.org/stable/modules/preprocessing.html\n",
            "Please also refer to the documentation for alternative solver options:\n",
            "    https://scikit-learn.org/stable/modules/linear_model.html#logistic-regression\n",
            "  n_iter_i = _check_optimize_result(\n"
          ]
        },
        {
          "output_type": "stream",
          "name": "stdout",
          "text": [
            "\n",
            "Model: Logistic Regression\n",
            "              precision    recall  f1-score   support\n",
            "\n",
            "       False       1.00      0.92      0.96        71\n",
            "        True       0.99      1.00      1.00       665\n",
            "\n",
            "    accuracy                           0.99       736\n",
            "   macro avg       1.00      0.96      0.98       736\n",
            "weighted avg       0.99      0.99      0.99       736\n",
            "\n",
            "\n",
            "Model: Decision Tree\n",
            "              precision    recall  f1-score   support\n",
            "\n",
            "       False       1.00      1.00      1.00        71\n",
            "        True       1.00      1.00      1.00       665\n",
            "\n",
            "    accuracy                           1.00       736\n",
            "   macro avg       1.00      1.00      1.00       736\n",
            "weighted avg       1.00      1.00      1.00       736\n",
            "\n",
            "\n",
            "Model: Random Forest\n",
            "              precision    recall  f1-score   support\n",
            "\n",
            "       False       1.00      1.00      1.00        71\n",
            "        True       1.00      1.00      1.00       665\n",
            "\n",
            "    accuracy                           1.00       736\n",
            "   macro avg       1.00      1.00      1.00       736\n",
            "weighted avg       1.00      1.00      1.00       736\n",
            "\n",
            "\n",
            "Model: Gradient Boosting\n",
            "              precision    recall  f1-score   support\n",
            "\n",
            "       False       1.00      1.00      1.00        71\n",
            "        True       1.00      1.00      1.00       665\n",
            "\n",
            "    accuracy                           1.00       736\n",
            "   macro avg       1.00      1.00      1.00       736\n",
            "weighted avg       1.00      1.00      1.00       736\n",
            "\n"
          ]
        }
      ]
    },
    {
      "cell_type": "markdown",
      "source": [
        "## Storytelling and Communication of Results"
      ],
      "metadata": {
        "id": "4pOgV-V94mJG"
      }
    },
    {
      "cell_type": "code",
      "source": [
        "# Confusion Matrix\n",
        "conf_matrix = confusion_matrix(y_test, y_pred)\n",
        "sns.heatmap(conf_matrix, annot=True, fmt='d', cmap='Blues')\n",
        "plt.xlabel('Predicted')\n",
        "plt.ylabel('Actual')\n",
        "plt.title('Confusion Matrix')\n",
        "plt.show()"
      ],
      "metadata": {
        "colab": {
          "base_uri": "https://localhost:8080/",
          "height": 472
        },
        "id": "MBgEUTAOay2r",
        "outputId": "09af9980-62b2-4939-d6d8-0613ef32a6b5"
      },
      "execution_count": 23,
      "outputs": [
        {
          "output_type": "display_data",
          "data": {
            "text/plain": [
              "<Figure size 640x480 with 2 Axes>"
            ],
            "image/png": "[encoded data removed]"
          },
          "metadata": {}
        }
      ]
    },
    {
      "cell_type": "code",
      "source": [
        "from sklearn.model_selection import GridSearchCV\n",
        "best_model = RandomForestClassifier()\n",
        "param_grid = {'n_estimators': [50, 100, 200], 'max_depth': [None, 10, 20]}\n",
        "grid_search = GridSearchCV(best_model, param_grid, cv=5, scoring='accuracy')\n",
        "grid_search.fit(X_train, y_train)\n",
        "print('Best parameters:', grid_search.best_params_)\n",
        "best_model = grid_search.best_estimator_\n",
        "y_pred = best_model.predict(X_test)"
      ],
      "metadata": {
        "colab": {
          "base_uri": "https://localhost:8080/"
        },
        "id": "EclAg0GPbiQM",
        "outputId": "b636f3ab-7be6-40cf-f93b-8569eb0708b1"
      },
      "execution_count": 24,
      "outputs": [
        {
          "output_type": "stream",
          "name": "stdout",
          "text": [
            "Best parameters: {'max_depth': None, 'n_estimators': 50}\n"
          ]
        }
      ]
    },
    {
      "cell_type": "code",
      "source": [
        "# ROC Curve\n",
        "if len(np.unique(y_test)) == 2:\n",
        "    y_pred_proba = best_model.predict_proba(X_test)[:, 1]\n",
        "    fpr, tpr, thresholds = roc_curve(y_test, y_pred_proba)\n",
        "    plt.plot(fpr, tpr, label='ROC Curve')\n",
        "    plt.plot([0, 1], [0, 1], 'k--')\n",
        "    plt.xlabel('False Positive Rate')\n",
        "    plt.ylabel('True Positive Rate')\n",
        "    plt.title('ROC Curve')\n",
        "    plt.legend()\n",
        "    plt.show()"
      ],
      "metadata": {
        "colab": {
          "base_uri": "https://localhost:8080/",
          "height": 472
        },
        "id": "jsWYAoyFbQXJ",
        "outputId": "0f8f38b4-0789-47b2-d1f6-5c43f777a4d5"
      },
      "execution_count": 25,
      "outputs": [
        {
          "output_type": "display_data",
          "data": {
            "text/plain": [
              "<Figure size 640x480 with 1 Axes>"
            ],
            "image/png": "[encoded data removed]"
          },
          "metadata": {}
        }
      ]
    },
    {
      "cell_type": "markdown",
      "source": [
        "## Business Recommendations using SQLite"
      ],
      "metadata": {
        "id": "qEdbmNdK4wmf"
      }
    },
    {
      "cell_type": "code",
      "source": [
        "import sqlite3\n",
        "\n",
        "# Connect to SQLite database (this will create a new database if it doesn't exist)\n",
        "conn = sqlite3.connect('course_analysis.db')\n",
        "cursor = conn.cursor()\n",
        "\n",
        "# Create a table to store course data and model predictions\n",
        "cursor.execute('''\n",
        "CREATE TABLE IF NOT EXISTS course_data (\n",
        "    course_id INTEGER PRIMARY KEY,\n",
        "    course_title TEXT,\n",
        "    price REAL,\n",
        "    num_subscribers INTEGER,\n",
        "    num_reviews INTEGER,\n",
        "    content_duration REAL,\n",
        "    level TEXT,\n",
        "    subject TEXT,\n",
        "    predicted_is_paid INTEGER,\n",
        "    feature_importance REAL\n",
        ")\n",
        "''')\n",
        "\n",
        "# Commit changes and close the connection\n",
        "conn.commit()\n"
      ],
      "metadata": {
        "id": "tHuzXhpUsQ5B"
      },
      "execution_count": 26,
      "outputs": []
    },
    {
      "cell_type": "code",
      "source": [
        "test_df = df.iloc[X_test.index]\n",
        "\n",
        "# Iterate over the predictions and insert them into the SQLite table\n",
        "for index, (prediction, row_index) in enumerate(zip(y_pred, X_test.index)):\n",
        "    row = df.loc[row_index]  # Access the original DataFrame (df) using the index from X_test\n",
        "\n",
        "    # Explicitly cast all columns to the expected data types\n",
        "    course_id = int(row['course_id'])\n",
        "    course_title = str(row['course_title'])\n",
        "    price = float(row['price'])\n",
        "    num_subscribers = int(row['num_subscribers'])\n",
        "    num_reviews = int(row['num_reviews'])\n",
        "    content_duration = float(row['content_duration'])\n",
        "    level = str(row['level'])\n",
        "    subject = str(row['subject'])\n",
        "    predicted_is_paid = int(prediction)\n",
        "    feature_importance = None\n",
        "    actual_is_paid = 1 if row['is_paid'] else 0\n",
        "\n",
        "    # Insert course data along with the predicted values\n",
        "    cursor.execute('''\n",
        "    INSERT OR REPLACE INTO course_data (\n",
        "        course_id,\n",
        "        course_title,\n",
        "        price,\n",
        "        num_subscribers,\n",
        "        num_reviews,\n",
        "        content_duration,\n",
        "        level,\n",
        "        subject,\n",
        "        predicted_is_paid,\n",
        "        feature_importance\n",
        "    ) VALUES (?, ?, ?, ?, ?, ?, ?, ?, ?, ?)\n",
        "    ''', (\n",
        "        course_id,\n",
        "        course_title,\n",
        "        price,\n",
        "        num_subscribers,\n",
        "        num_reviews,\n",
        "        content_duration,\n",
        "        level,\n",
        "        subject,\n",
        "        predicted_is_paid,  # Insert the predicted value\n",
        "        feature_importance  # You can add feature importance if calculated\n",
        "    ))\n",
        "\n",
        "# Commit the transaction to save the data into SQLite\n",
        "conn.commit()\n"
      ],
      "metadata": {
        "id": "YKWOOBCDsa7X"
      },
      "execution_count": 27,
      "outputs": []
    },
    {
      "source": [
        "def get_courses(preference=None, subject=None, free_only=False, top_n=5):\n",
        "    conn = sqlite3.connect('course_analysis.db')\n",
        "    cursor = conn.cursor()\n",
        "\n",
        "    query = \"SELECT course_id, course_title, price, num_subscribers, num_reviews, content_duration, level, subject FROM course_data WHERE 1=1\"\n",
        "\n",
        "    if preference:\n",
        "        if preference == \"free\":\n",
        "            query += \" AND price = 0\"\n",
        "        elif preference == \"paid\":\n",
        "            query += \" AND price > 0\"\n",
        "\n",
        "    if subject:\n",
        "        query += f\" AND subject = '{subject}'\"\n",
        "\n",
        "    query += \" ORDER BY num_subscribers DESC, num_reviews DESC LIMIT ?\"\n",
        "\n",
        "    cursor.execute(query, (top_n,))\n",
        "\n",
        "    courses = cursor.fetchall()\n",
        "\n",
        "    cursor.execute(\"SELECT COUNT(*) FROM course_data WHERE price = 0\")\n",
        "    free_courses_count = cursor.fetchone()[0]\n",
        "\n",
        "    cursor.execute(\"SELECT COUNT(*) FROM course_data WHERE price > 0\")\n",
        "    paid_courses_count = cursor.fetchone()[0]\n",
        "\n",
        "    print(f\"\\nTotal Free Courses: {free_courses_count}\")\n",
        "    print(f\"Total Paid Courses: {paid_courses_count}\")\n",
        "\n",
        "    if courses:\n",
        "        print(f\"\\nTop {top_n} recommended courses based on your preferences:\")\n",
        "        for course in courses:\n",
        "            course_id, course_title, price, num_subscribers, num_reviews, content_duration, level, subject = course\n",
        "            print(f\"\\nCourse ID: {course_id}\")\n",
        "            print(f\"Title: {course_title}\")\n",
        "            print(f\"Price: ${price}\")\n",
        "            print(f\"Subscribers: {num_subscribers}\")\n",
        "            print(f\"Reviews: {num_reviews}\")\n",
        "            print(f\"Content Duration: {content_duration} hours\")\n",
        "            print(f\"Level: {level}\")\n",
        "            print(f\"Subject: {subject}\")\n",
        "            print(\"-\" * 50)\n",
        "    else:\n",
        "        print(\"No courses found based on the given criteria.\")"
      ],
      "cell_type": "code",
      "metadata": {
        "id": "R8ipYL4etQJb"
      },
      "execution_count": 43,
      "outputs": []
    },
    {
      "cell_type": "code",
      "source": [
        "get_courses(preference='free', subject='Business Finance', top_n=3)"
      ],
      "metadata": {
        "colab": {
          "base_uri": "https://localhost:8080/"
        },
        "id": "HITSA4a1yjLl",
        "outputId": "9745bd9a-7926-4c54-9b58-c12cd2cb9a02"
      },
      "execution_count": 44,
      "outputs": [
        {
          "output_type": "stream",
          "name": "stdout",
          "text": [
            "\n",
            "Total Free Courses: 71\n",
            "Total Paid Courses: 665\n",
            "\n",
            "Top 3 recommended courses based on your preferences:\n",
            "\n",
            "Course ID: 196620\n",
            "Title: Como Investir em Ações para Iniciantes\n",
            "Price: $0.0\n",
            "Subscribers: 6024\n",
            "Reviews: 890\n",
            "Content Duration: 1.0 hours\n",
            "Level: All Levels\n",
            "Subject: Business Finance\n",
            "--------------------------------------------------\n",
            "\n",
            "Course ID: 805336\n",
            "Title: Introductory Forex Trading Course\n",
            "Price: $0.0\n",
            "Subscribers: 5931\n",
            "Reviews: 158\n",
            "Content Duration: 3.5 hours\n",
            "Level: Beginner Level\n",
            "Subject: Business Finance\n",
            "--------------------------------------------------\n",
            "\n",
            "Course ID: 41973\n",
            "Title: Silver, Gold, and Inflation\n",
            "Price: $0.0\n",
            "Subscribers: 5597\n",
            "Reviews: 76\n",
            "Content Duration: 1.0 hours\n",
            "Level: Beginner Level\n",
            "Subject: Business Finance\n",
            "--------------------------------------------------\n"
          ]
        }
      ]
    },
    {
      "cell_type": "markdown",
      "source": [
        "### Most Popular Courses"
      ],
      "metadata": {
        "id": "UAytVNUw54qT"
      }
    },
    {
      "cell_type": "code",
      "source": [
        "def get_most_popular_courses(preference=None, top_n=5):\n",
        "    conn = sqlite3.connect('course_analysis.db')\n",
        "    cursor = conn.cursor()\n",
        "\n",
        "    query = \"SELECT course_id, course_title, price, num_subscribers, num_reviews, content_duration, level, subject FROM course_data WHERE 1=1\"\n",
        "\n",
        "    if preference:\n",
        "        if preference == \"free\":\n",
        "            query += \" AND price = 0\"\n",
        "        elif preference == \"paid\":\n",
        "            query += \" AND price > 0\"\n",
        "\n",
        "    query += \" ORDER BY num_subscribers DESC LIMIT ?\"\n",
        "\n",
        "    cursor.execute(query, (top_n,))\n",
        "\n",
        "    courses = cursor.fetchall()\n",
        "\n",
        "    if courses:\n",
        "        print(f\"Top {top_n} Most Popular Courses Based on Subscribers:\")\n",
        "        for course in courses:\n",
        "            course_id, course_title, price, num_subscribers, num_reviews, content_duration, level, subject = course\n",
        "            print(f\"\\nCourse ID: {course_id}\")\n",
        "            print(f\"Title: {course_title}\")\n",
        "            print(f\"Price: ${price}\")\n",
        "            print(f\"Subscribers: {num_subscribers}\")\n",
        "            print(f\"Reviews: {num_reviews}\")\n",
        "            print(f\"Content Duration: {content_duration} hours\")\n",
        "            print(f\"Level: {level}\")\n",
        "            print(f\"Subject: {subject}\")\n",
        "            print(\"-\" * 50)\n",
        "    else:\n",
        "        print(\"No courses found based on the given criteria.\")"
      ],
      "metadata": {
        "id": "uKRqYqvRylaS"
      },
      "execution_count": 30,
      "outputs": []
    },
    {
      "cell_type": "code",
      "source": [
        "get_most_popular_courses(preference='free', top_n=3)"
      ],
      "metadata": {
        "colab": {
          "base_uri": "https://localhost:8080/"
        },
        "id": "bmQnUJzUysNs",
        "outputId": "ca8049eb-ced3-49a8-be89-8f4554db9892"
      },
      "execution_count": 31,
      "outputs": [
        {
          "output_type": "stream",
          "name": "stdout",
          "text": [
            "Top 3 Most Popular Courses Based on Subscribers:\n",
            "\n",
            "Course ID: 405926\n",
            "Title: HTML and CSS for Beginners - Build a Website & Launch ONLINE\n",
            "Price: $0.0\n",
            "Subscribers: 70773\n",
            "Reviews: 5660\n",
            "Content Duration: 6.0 hours\n",
            "Level: All Levels\n",
            "Subject: Web Development\n",
            "--------------------------------------------------\n",
            "\n",
            "Course ID: 348116\n",
            "Title: Photoshop In-Depth: Master all of Photoshop's Tools Easily\n",
            "Price: $0.0\n",
            "Subscribers: 53851\n",
            "Reviews: 1779\n",
            "Content Duration: 4.5 hours\n",
            "Level: All Levels\n",
            "Subject: Graphic Design\n",
            "--------------------------------------------------\n",
            "\n",
            "Course ID: 41884\n",
            "Title: Getting Started with Playing Guitar\n",
            "Price: $0.0\n",
            "Subscribers: 47652\n",
            "Reviews: 1141\n",
            "Content Duration: 4.0 hours\n",
            "Level: Beginner Level\n",
            "Subject: Musical Instruments\n",
            "--------------------------------------------------\n"
          ]
        }
      ]
    },
    {
      "cell_type": "code",
      "source": [
        "get_most_popular_courses(preference='paid', top_n=3)"
      ],
      "metadata": {
        "colab": {
          "base_uri": "https://localhost:8080/"
        },
        "id": "5lFI2ybby0Su",
        "outputId": "d384649b-613f-439d-b465-89c26e166fa8"
      },
      "execution_count": 32,
      "outputs": [
        {
          "output_type": "stream",
          "name": "stdout",
          "text": [
            "Top 3 Most Popular Courses Based on Subscribers:\n",
            "\n",
            "Course ID: 364426\n",
            "Title: JavaScript: Understanding the Weird Parts\n",
            "Price: $175.0\n",
            "Subscribers: 79612\n",
            "Reviews: 16976\n",
            "Content Duration: 11.5 hours\n",
            "Level: All Levels\n",
            "Subject: Web Development\n",
            "--------------------------------------------------\n",
            "\n",
            "Course ID: 80940\n",
            "Title: Build Websites from Scratch with HTML & CSS\n",
            "Price: $145.0\n",
            "Subscribers: 51257\n",
            "Reviews: 1955\n",
            "Content Duration: 8.0 hours\n",
            "Level: Beginner Level\n",
            "Subject: Web Development\n",
            "--------------------------------------------------\n",
            "\n",
            "Course ID: 28295\n",
            "Title: Learn Web Designing & HTML5/CSS3 Essentials in 4-Hours\n",
            "Price: $75.0\n",
            "Subscribers: 43285\n",
            "Reviews: 525\n",
            "Content Duration: 4.0 hours\n",
            "Level: All Levels\n",
            "Subject: Web Development\n",
            "--------------------------------------------------\n"
          ]
        }
      ]
    },
    {
      "cell_type": "markdown",
      "source": [
        "### Highly rated courses"
      ],
      "metadata": {
        "id": "SZDSAjqX5_LT"
      }
    },
    {
      "cell_type": "code",
      "source": [
        "def get_highly_rated_courses(preference=None, top_n=5):\n",
        "    conn = sqlite3.connect('course_analysis.db')\n",
        "    cursor = conn.cursor()\n",
        "\n",
        "    query = \"SELECT course_id, course_title, price, num_subscribers, num_reviews, content_duration, level, subject FROM course_data WHERE 1=1\"\n",
        "\n",
        "    if preference:\n",
        "        if preference == \"free\":\n",
        "            query += \" AND price = 0\"\n",
        "        elif preference == \"paid\":\n",
        "            query += \" AND price > 0\"\n",
        "\n",
        "    query += \" ORDER BY num_reviews DESC LIMIT ?\"\n",
        "\n",
        "    cursor.execute(query, (top_n,))\n",
        "\n",
        "    courses = cursor.fetchall()\n",
        "\n",
        "    if courses:\n",
        "        print(f\"Top {top_n} Highest-Rated Courses Based on Reviews:\")\n",
        "        for course in courses:\n",
        "            course_id, course_title, price, num_subscribers, num_reviews, content_duration, level, subject = course\n",
        "            print(f\"\\nCourse ID: {course_id}\")\n",
        "            print(f\"Title: {course_title}\")\n",
        "            print(f\"Price: ${price}\")\n",
        "            print(f\"Subscribers: {num_subscribers}\")\n",
        "            print(f\"Reviews: {num_reviews}\")\n",
        "            print(f\"Content Duration: {content_duration} hours\")\n",
        "            print(f\"Level: {level}\")\n",
        "            print(f\"Subject: {subject}\")\n",
        "            print(\"-\" * 50)\n",
        "    else:\n",
        "        print(\"No courses found based on the given criteria.\")"
      ],
      "metadata": {
        "id": "McAnYb-Dy4JC"
      },
      "execution_count": 33,
      "outputs": []
    },
    {
      "cell_type": "code",
      "source": [
        "get_highly_rated_courses(preference='free', top_n=3)"
      ],
      "metadata": {
        "colab": {
          "base_uri": "https://localhost:8080/"
        },
        "id": "1OufOm5-y_lj",
        "outputId": "c7403063-4afb-4821-b232-8ba4bcce1380"
      },
      "execution_count": 34,
      "outputs": [
        {
          "output_type": "stream",
          "name": "stdout",
          "text": [
            "Top 3 Highest-Rated Courses Based on Reviews:\n",
            "\n",
            "Course ID: 405926\n",
            "Title: HTML and CSS for Beginners - Build a Website & Launch ONLINE\n",
            "Price: $0.0\n",
            "Subscribers: 70773\n",
            "Reviews: 5660\n",
            "Content Duration: 6.0 hours\n",
            "Level: All Levels\n",
            "Subject: Web Development\n",
            "--------------------------------------------------\n",
            "\n",
            "Course ID: 772618\n",
            "Title: Learn Object Oriented PHP By Building a Complete Website\n",
            "Price: $0.0\n",
            "Subscribers: 36322\n",
            "Reviews: 2618\n",
            "Content Duration: 4.5 hours\n",
            "Level: All Levels\n",
            "Subject: Web Development\n",
            "--------------------------------------------------\n",
            "\n",
            "Course ID: 348116\n",
            "Title: Photoshop In-Depth: Master all of Photoshop's Tools Easily\n",
            "Price: $0.0\n",
            "Subscribers: 53851\n",
            "Reviews: 1779\n",
            "Content Duration: 4.5 hours\n",
            "Level: All Levels\n",
            "Subject: Graphic Design\n",
            "--------------------------------------------------\n"
          ]
        }
      ]
    },
    {
      "cell_type": "code",
      "source": [
        "get_highly_rated_courses(preference='paid', top_n=3)"
      ],
      "metadata": {
        "colab": {
          "base_uri": "https://localhost:8080/"
        },
        "id": "vCT3z1IIzEiv",
        "outputId": "da0122e2-5761-4a7d-804e-6d9cd1900f56"
      },
      "execution_count": 35,
      "outputs": [
        {
          "output_type": "stream",
          "name": "stdout",
          "text": [
            "Top 3 Highest-Rated Courses Based on Reviews:\n",
            "\n",
            "Course ID: 364426\n",
            "Title: JavaScript: Understanding the Weird Parts\n",
            "Price: $175.0\n",
            "Subscribers: 79612\n",
            "Reviews: 16976\n",
            "Content Duration: 11.5 hours\n",
            "Level: All Levels\n",
            "Subject: Web Development\n",
            "--------------------------------------------------\n",
            "\n",
            "Course ID: 851712\n",
            "Title: The Complete JavaScript Course: Build a Real-World Project\n",
            "Price: $195.0\n",
            "Subscribers: 27801\n",
            "Reviews: 4340\n",
            "Content Duration: 17.5 hours\n",
            "Level: All Levels\n",
            "Subject: Web Development\n",
            "--------------------------------------------------\n",
            "\n",
            "Course ID: 405282\n",
            "Title: PHP for Beginners -Become a PHP Master - Project Included\n",
            "Price: $200.0\n",
            "Subscribers: 28880\n",
            "Reviews: 4316\n",
            "Content Duration: 30.5 hours\n",
            "Level: All Levels\n",
            "Subject: Web Development\n",
            "--------------------------------------------------\n"
          ]
        }
      ]
    },
    {
      "cell_type": "markdown",
      "source": [
        "### Low engagement courses"
      ],
      "metadata": {
        "id": "ngQhxC6w6C6P"
      }
    },
    {
      "cell_type": "code",
      "source": [
        "def get_low_engagement_courses(threshold_subscribers=100, threshold_reviews=10, top_n=5):\n",
        "    conn = sqlite3.connect('course_analysis.db')\n",
        "    cursor = conn.cursor()\n",
        "\n",
        "    query = \"SELECT course_id, course_title, price, num_subscribers, num_reviews, content_duration, level, subject FROM course_data WHERE num_subscribers < ? AND num_reviews < ?\"\n",
        "\n",
        "    cursor.execute(query, (threshold_subscribers, threshold_reviews))\n",
        "\n",
        "    courses = cursor.fetchall()\n",
        "\n",
        "    if courses:\n",
        "        print(f\"Top {top_n} Courses with Low Engagement (Subscribers < {threshold_subscribers} and Reviews < {threshold_reviews}):\")\n",
        "        for course in courses[:top_n]:\n",
        "            course_id, course_title, price, num_subscribers, num_reviews, content_duration, level, subject = course\n",
        "            print(f\"\\nCourse ID: {course_id}\")\n",
        "            print(f\"Title: {course_title}\")\n",
        "            print(f\"Price: ${price}\")\n",
        "            print(f\"Subscribers: {num_subscribers}\")\n",
        "            print(f\"Reviews: {num_reviews}\")\n",
        "            print(f\"Content Duration: {content_duration} hours\")\n",
        "            print(f\"Level: {level}\")\n",
        "            print(f\"Subject: {subject}\")\n",
        "            print(\"-\" * 50)\n",
        "    else:\n",
        "        print(\"No low engagement courses found based on the given criteria.\")"
      ],
      "metadata": {
        "id": "65W6zHe4zHTa"
      },
      "execution_count": 36,
      "outputs": []
    },
    {
      "cell_type": "code",
      "source": [
        "get_low_engagement_courses(threshold_subscribers=100, threshold_reviews=10, top_n=5)"
      ],
      "metadata": {
        "colab": {
          "base_uri": "https://localhost:8080/"
        },
        "id": "NSXBqWb0zOR-",
        "outputId": "4d8c8b9c-6d46-478a-866e-0d3154ade5c4"
      },
      "execution_count": 37,
      "outputs": [
        {
          "output_type": "stream",
          "name": "stdout",
          "text": [
            "Top 5 Courses with Low Engagement (Subscribers < 100 and Reviews < 10):\n",
            "\n",
            "Course ID: 24815\n",
            "Title: Harnessing the Power of Growth Stocks\n",
            "Price: $50.0\n",
            "Subscribers: 29\n",
            "Reviews: 2\n",
            "Content Duration: 2.0 hours\n",
            "Level: Intermediate Level\n",
            "Subject: Business Finance\n",
            "--------------------------------------------------\n",
            "\n",
            "Course ID: 31150\n",
            "Title: Advance Design of Logos and Brand Identity   \n",
            "Price: $20.0\n",
            "Subscribers: 34\n",
            "Reviews: 4\n",
            "Content Duration: 2.0 hours\n",
            "Level: All Levels\n",
            "Subject: Graphic Design\n",
            "--------------------------------------------------\n",
            "\n",
            "Course ID: 34332\n",
            "Title: Aprende a tocar la guitarra\n",
            "Price: $50.0\n",
            "Subscribers: 7\n",
            "Reviews: 1\n",
            "Content Duration: 1.5 hours\n",
            "Level: All Levels\n",
            "Subject: Musical Instruments\n",
            "--------------------------------------------------\n",
            "\n",
            "Course ID: 43291\n",
            "Title: La costruzione del budget di una proposta comunitaria\n",
            "Price: $50.0\n",
            "Subscribers: 10\n",
            "Reviews: 1\n",
            "Content Duration: 1.0 hours\n",
            "Level: Intermediate Level\n",
            "Subject: Business Finance\n",
            "--------------------------------------------------\n",
            "\n",
            "Course ID: 46933\n",
            "Title: Business Accounts For Managers\n",
            "Price: $30.0\n",
            "Subscribers: 16\n",
            "Reviews: 0\n",
            "Content Duration: 3.0 hours\n",
            "Level: Beginner Level\n",
            "Subject: Business Finance\n",
            "--------------------------------------------------\n"
          ]
        }
      ]
    },
    {
      "cell_type": "markdown",
      "source": [
        "### Courses by level (Beginner Level, Intermediate Level, Advanced Level)"
      ],
      "metadata": {
        "id": "vgsR8Qcm6Ghz"
      }
    },
    {
      "cell_type": "code",
      "source": [
        "def get_courses_by_level(level, top_n=5):\n",
        "    conn = sqlite3.connect('course_analysis.db')\n",
        "    cursor = conn.cursor()\n",
        "\n",
        "    query = \"SELECT course_id, course_title, price, num_subscribers, num_reviews, content_duration, level, subject FROM course_data WHERE level = ? LIMIT ?\"\n",
        "\n",
        "    cursor.execute(query, (level, top_n))\n",
        "\n",
        "    courses = cursor.fetchall()\n",
        "\n",
        "    if courses:\n",
        "        print(f\"Top {top_n} Courses for {level}:\")\n",
        "        for course in courses:\n",
        "            course_id, course_title, price, num_subscribers, num_reviews, content_duration, level, subject = course\n",
        "            print(f\"\\nCourse ID: {course_id}\")\n",
        "            print(f\"Title: {course_title}\")\n",
        "            print(f\"Price: ${price}\")\n",
        "            print(f\"Subscribers: {num_subscribers}\")\n",
        "            print(f\"Reviews: {num_reviews}\")\n",
        "            print(f\"Content Duration: {content_duration} hours\")\n",
        "            print(f\"Level: {level}\")\n",
        "            print(f\"Subject: {subject}\")\n",
        "            print(\"-\" * 50)\n",
        "    else:\n",
        "        print(\"No courses found for the given skill level.\")"
      ],
      "metadata": {
        "id": "c7spqw4jzXK-"
      },
      "execution_count": 41,
      "outputs": []
    },
    {
      "cell_type": "code",
      "source": [
        "get_courses_by_level(level='Beginner Level', top_n=5)"
      ],
      "metadata": {
        "colab": {
          "base_uri": "https://localhost:8080/"
        },
        "id": "pcJiLQvYzgO8",
        "outputId": "65e2a9c0-0f62-4fc1-f950-8d7fbdde3de5"
      },
      "execution_count": 42,
      "outputs": [
        {
          "output_type": "stream",
          "name": "stdout",
          "text": [
            "Top 5 Courses for Beginner Level:\n",
            "\n",
            "Course ID: 21080\n",
            "Title: Guitar Essentials\n",
            "Price: $20.0\n",
            "Subscribers: 261\n",
            "Reviews: 1\n",
            "Content Duration: 1.5 hours\n",
            "Level: Beginner Level\n",
            "Subject: Musical Instruments\n",
            "--------------------------------------------------\n",
            "\n",
            "Course ID: 24877\n",
            "Title: Introductory Financial Accounting\n",
            "Price: $80.0\n",
            "Subscribers: 1793\n",
            "Reviews: 265\n",
            "Content Duration: 10.0 hours\n",
            "Level: Beginner Level\n",
            "Subject: Business Finance\n",
            "--------------------------------------------------\n",
            "\n",
            "Course ID: 26956\n",
            "Title: Learn Guitar in 21 Days\n",
            "Price: $20.0\n",
            "Subscribers: 26504\n",
            "Reviews: 192\n",
            "Content Duration: 2.5 hours\n",
            "Level: Beginner Level\n",
            "Subject: Musical Instruments\n",
            "--------------------------------------------------\n",
            "\n",
            "Course ID: 41145\n",
            "Title: Learn Call Options and Put Options - Introduction to Options\n",
            "Price: $60.0\n",
            "Subscribers: 1017\n",
            "Reviews: 74\n",
            "Content Duration: 3.0 hours\n",
            "Level: Beginner Level\n",
            "Subject: Business Finance\n",
            "--------------------------------------------------\n",
            "\n",
            "Course ID: 41884\n",
            "Title: Getting Started with Playing Guitar\n",
            "Price: $0.0\n",
            "Subscribers: 47652\n",
            "Reviews: 1141\n",
            "Content Duration: 4.0 hours\n",
            "Level: Beginner Level\n",
            "Subject: Musical Instruments\n",
            "--------------------------------------------------\n"
          ]
        }
      ]
    }
  ]
}